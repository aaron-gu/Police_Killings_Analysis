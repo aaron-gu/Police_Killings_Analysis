{
 "cells": [
  {
   "cell_type": "markdown",
   "metadata": {},
   "source": [
    "# Comparing Names of People Killed Across Different Datasets\n",
    "\n",
    "The first part of the analysis is to see if the people killed are consistently recorded by all 3 datasets. To do that, we will see how many names match between them."
   ]
  },
  {
   "cell_type": "code",
   "execution_count": 1,
   "metadata": {},
   "outputs": [],
   "source": [
    "import pandas as pd\n",
    "import numpy as np\n",
    "from difflib import SequenceMatcher\n",
    "import Levenshtein as lev"
   ]
  },
  {
   "cell_type": "code",
   "execution_count": 59,
   "metadata": {},
   "outputs": [],
   "source": [
    "kbp = pd.read_csv(\"data/killedbypolice.csv\")\n",
    "mpv = pd.read_csv(\"data/MPVDataset.csv\")\n",
    "wapo = pd.read_csv(\"https://raw.githubusercontent.com/washingtonpost/data-police-shootings/master/fatal-police-shootings-data.csv\")"
   ]
  },
  {
   "cell_type": "code",
   "execution_count": 3,
   "metadata": {},
   "outputs": [
    {
     "data": {
      "text/html": [
       "<div>\n",
       "<style scoped>\n",
       "    .dataframe tbody tr th:only-of-type {\n",
       "        vertical-align: middle;\n",
       "    }\n",
       "\n",
       "    .dataframe tbody tr th {\n",
       "        vertical-align: top;\n",
       "    }\n",
       "\n",
       "    .dataframe thead th {\n",
       "        text-align: right;\n",
       "    }\n",
       "</style>\n",
       "<table border=\"1\" class=\"dataframe\">\n",
       "  <thead>\n",
       "    <tr style=\"text-align: right;\">\n",
       "      <th></th>\n",
       "      <th>age</th>\n",
       "      <th>date</th>\n",
       "      <th>gender</th>\n",
       "      <th>manner of death</th>\n",
       "      <th>name</th>\n",
       "      <th>race</th>\n",
       "      <th>state</th>\n",
       "      <th>month</th>\n",
       "      <th>year</th>\n",
       "    </tr>\n",
       "  </thead>\n",
       "  <tbody>\n",
       "    <tr>\n",
       "      <th>4723</th>\n",
       "      <td>34</td>\n",
       "      <td>September 26, 2013</td>\n",
       "      <td>M</td>\n",
       "      <td>shot</td>\n",
       "      <td>Tavaris Gulley</td>\n",
       "      <td>NaN</td>\n",
       "      <td>AL</td>\n",
       "      <td>September</td>\n",
       "      <td>2013</td>\n",
       "    </tr>\n",
       "    <tr>\n",
       "      <th>4724</th>\n",
       "      <td>22</td>\n",
       "      <td>September 25, 2013</td>\n",
       "      <td>M</td>\n",
       "      <td>shot</td>\n",
       "      <td>Luke Castello</td>\n",
       "      <td>W</td>\n",
       "      <td>FL</td>\n",
       "      <td>September</td>\n",
       "      <td>2013</td>\n",
       "    </tr>\n",
       "    <tr>\n",
       "      <th>4725</th>\n",
       "      <td>27</td>\n",
       "      <td>September 25, 2013</td>\n",
       "      <td>M</td>\n",
       "      <td>NaN</td>\n",
       "      <td>Eric Poore</td>\n",
       "      <td>W</td>\n",
       "      <td>IN</td>\n",
       "      <td>September</td>\n",
       "      <td>2013</td>\n",
       "    </tr>\n",
       "    <tr>\n",
       "      <th>4726</th>\n",
       "      <td>32</td>\n",
       "      <td>September 25, 2013</td>\n",
       "      <td>M</td>\n",
       "      <td>shot</td>\n",
       "      <td>Erick Balint</td>\n",
       "      <td>L</td>\n",
       "      <td>CA</td>\n",
       "      <td>September</td>\n",
       "      <td>2013</td>\n",
       "    </tr>\n",
       "    <tr>\n",
       "      <th>4727</th>\n",
       "      <td>21</td>\n",
       "      <td>September 24, 2013</td>\n",
       "      <td>M</td>\n",
       "      <td>shot</td>\n",
       "      <td>Connor Bishop Zion</td>\n",
       "      <td>W</td>\n",
       "      <td>CA</td>\n",
       "      <td>September</td>\n",
       "      <td>2013</td>\n",
       "    </tr>\n",
       "  </tbody>\n",
       "</table>\n",
       "</div>"
      ],
      "text/plain": [
       "      age                 date gender manner of death                name  \\\n",
       "4723   34  September 26, 2013       M            shot      Tavaris Gulley   \n",
       "4724   22  September 25, 2013       M            shot       Luke Castello   \n",
       "4725   27  September 25, 2013       M             NaN          Eric Poore   \n",
       "4726   32  September 25, 2013       M            shot        Erick Balint   \n",
       "4727   21  September 24, 2013       M            shot  Connor Bishop Zion   \n",
       "\n",
       "     race state      month  year  \n",
       "4723  NaN    AL  September  2013  \n",
       "4724    W    FL  September  2013  \n",
       "4725    W    IN  September  2013  \n",
       "4726    L    CA  September  2013  \n",
       "4727    W    CA  September  2013  "
      ]
     },
     "execution_count": 3,
     "metadata": {},
     "output_type": "execute_result"
    }
   ],
   "source": [
    "kbp.tail()"
   ]
  },
  {
   "cell_type": "code",
   "execution_count": 4,
   "metadata": {},
   "outputs": [
    {
     "data": {
      "text/html": [
       "<div>\n",
       "<style scoped>\n",
       "    .dataframe tbody tr th:only-of-type {\n",
       "        vertical-align: middle;\n",
       "    }\n",
       "\n",
       "    .dataframe tbody tr th {\n",
       "        vertical-align: top;\n",
       "    }\n",
       "\n",
       "    .dataframe thead th {\n",
       "        text-align: right;\n",
       "    }\n",
       "</style>\n",
       "<table border=\"1\" class=\"dataframe\">\n",
       "  <thead>\n",
       "    <tr style=\"text-align: right;\">\n",
       "      <th></th>\n",
       "      <th>Victim's name</th>\n",
       "      <th>Victim's age</th>\n",
       "      <th>Victim's gender</th>\n",
       "      <th>Victim's race</th>\n",
       "      <th>URL of image of victim</th>\n",
       "      <th>Date of Incident (month/day/year)</th>\n",
       "      <th>Street Address of Incident</th>\n",
       "      <th>City</th>\n",
       "      <th>State</th>\n",
       "      <th>Zipcode</th>\n",
       "      <th>...</th>\n",
       "      <th>Criminal Charges?</th>\n",
       "      <th>Link to news article or photo of official document</th>\n",
       "      <th>Symptoms of mental illness?</th>\n",
       "      <th>Unarmed</th>\n",
       "      <th>Alleged Weapon (Source: WaPo)</th>\n",
       "      <th>Alleged Threat Level (Source: WaPo)</th>\n",
       "      <th>Fleeing (Source: WaPo)</th>\n",
       "      <th>Body Camera (Source: WaPo)</th>\n",
       "      <th>WaPo ID (If included in WaPo database)</th>\n",
       "      <th>Unnamed: 24</th>\n",
       "    </tr>\n",
       "  </thead>\n",
       "  <tbody>\n",
       "    <tr>\n",
       "      <th>6314</th>\n",
       "      <td>Andrew L. Closson</td>\n",
       "      <td>21</td>\n",
       "      <td>Male</td>\n",
       "      <td>White</td>\n",
       "      <td>http://www.superiortelegram.com/sites/default/...</td>\n",
       "      <td>1/1/13</td>\n",
       "      <td>U.S. Highway 53</td>\n",
       "      <td>Gordon</td>\n",
       "      <td>WI</td>\n",
       "      <td>54838.0</td>\n",
       "      <td>...</td>\n",
       "      <td>No Known Charges</td>\n",
       "      <td>http://www.superiortelegram.com/content/deputy...</td>\n",
       "      <td>Drug or alcohol use</td>\n",
       "      <td>Allegedly Armed</td>\n",
       "      <td>NaN</td>\n",
       "      <td>NaN</td>\n",
       "      <td>NaN</td>\n",
       "      <td>NaN</td>\n",
       "      <td>NaN</td>\n",
       "      <td>NaN</td>\n",
       "    </tr>\n",
       "    <tr>\n",
       "      <th>6315</th>\n",
       "      <td>Mark Chavez</td>\n",
       "      <td>49</td>\n",
       "      <td>Male</td>\n",
       "      <td>Hispanic</td>\n",
       "      <td>http://www.tricitytribuneusa.com/wp-content/up...</td>\n",
       "      <td>1/1/13</td>\n",
       "      <td>912 Loma Linda Ave.</td>\n",
       "      <td>Farmington</td>\n",
       "      <td>NM</td>\n",
       "      <td>87401.0</td>\n",
       "      <td>...</td>\n",
       "      <td>No Known Charges</td>\n",
       "      <td>http://www.daily-times.com/farmington-news/ci_...</td>\n",
       "      <td>No</td>\n",
       "      <td>Allegedly Armed</td>\n",
       "      <td>NaN</td>\n",
       "      <td>NaN</td>\n",
       "      <td>NaN</td>\n",
       "      <td>NaN</td>\n",
       "      <td>NaN</td>\n",
       "      <td>NaN</td>\n",
       "    </tr>\n",
       "    <tr>\n",
       "      <th>6316</th>\n",
       "      <td>Andrew Layton</td>\n",
       "      <td>26</td>\n",
       "      <td>Male</td>\n",
       "      <td>White</td>\n",
       "      <td>http://bloximages.chicago2.vip.townnews.com/ma...</td>\n",
       "      <td>1/1/13</td>\n",
       "      <td>410 S Riverfront Drive</td>\n",
       "      <td>Mankato</td>\n",
       "      <td>MN</td>\n",
       "      <td>56001.0</td>\n",
       "      <td>...</td>\n",
       "      <td>No Known Charges</td>\n",
       "      <td>http://www.tmcnet.com/usubmit/2013/02/21/69388...</td>\n",
       "      <td>No</td>\n",
       "      <td>Allegedly Armed</td>\n",
       "      <td>NaN</td>\n",
       "      <td>NaN</td>\n",
       "      <td>NaN</td>\n",
       "      <td>NaN</td>\n",
       "      <td>NaN</td>\n",
       "      <td>NaN</td>\n",
       "    </tr>\n",
       "    <tr>\n",
       "      <th>6317</th>\n",
       "      <td>Tyree Bell</td>\n",
       "      <td>31</td>\n",
       "      <td>Male</td>\n",
       "      <td>Black</td>\n",
       "      <td>http://content.omaha.com/media/maps/ps/2013/ja...</td>\n",
       "      <td>1/1/13</td>\n",
       "      <td>3727 N. 42nd St.</td>\n",
       "      <td>Omaha</td>\n",
       "      <td>NE</td>\n",
       "      <td>68111.0</td>\n",
       "      <td>...</td>\n",
       "      <td>No Known Charges</td>\n",
       "      <td>http://www.ketv.com/news/Police-chief-details-...</td>\n",
       "      <td>Yes</td>\n",
       "      <td>Allegedly Armed</td>\n",
       "      <td>NaN</td>\n",
       "      <td>NaN</td>\n",
       "      <td>NaN</td>\n",
       "      <td>NaN</td>\n",
       "      <td>NaN</td>\n",
       "      <td>NaN</td>\n",
       "    </tr>\n",
       "    <tr>\n",
       "      <th>6318</th>\n",
       "      <td>Christopher Tavares</td>\n",
       "      <td>21</td>\n",
       "      <td>Male</td>\n",
       "      <td>Hispanic</td>\n",
       "      <td>http://www.krdo.com/image/view/-/17980228/medR...</td>\n",
       "      <td>1/1/13</td>\n",
       "      <td>Highway 50 and North Elizabeth Street</td>\n",
       "      <td>Pueblo</td>\n",
       "      <td>CO</td>\n",
       "      <td>81008.0</td>\n",
       "      <td>...</td>\n",
       "      <td>No Known Charges</td>\n",
       "      <td>http://www.krdo.com/news/Pueblo-Police-shoot-k...</td>\n",
       "      <td>No</td>\n",
       "      <td>Allegedly Armed</td>\n",
       "      <td>NaN</td>\n",
       "      <td>NaN</td>\n",
       "      <td>NaN</td>\n",
       "      <td>NaN</td>\n",
       "      <td>NaN</td>\n",
       "      <td>NaN</td>\n",
       "    </tr>\n",
       "  </tbody>\n",
       "</table>\n",
       "<p>5 rows × 25 columns</p>\n",
       "</div>"
      ],
      "text/plain": [
       "            Victim's name Victim's age Victim's gender Victim's race  \\\n",
       "6314    Andrew L. Closson           21            Male         White   \n",
       "6315          Mark Chavez           49            Male      Hispanic   \n",
       "6316        Andrew Layton           26            Male         White   \n",
       "6317           Tyree Bell           31            Male         Black   \n",
       "6318  Christopher Tavares           21            Male      Hispanic   \n",
       "\n",
       "                                 URL of image of victim  \\\n",
       "6314  http://www.superiortelegram.com/sites/default/...   \n",
       "6315  http://www.tricitytribuneusa.com/wp-content/up...   \n",
       "6316  http://bloximages.chicago2.vip.townnews.com/ma...   \n",
       "6317  http://content.omaha.com/media/maps/ps/2013/ja...   \n",
       "6318  http://www.krdo.com/image/view/-/17980228/medR...   \n",
       "\n",
       "     Date of Incident (month/day/year)             Street Address of Incident  \\\n",
       "6314                            1/1/13                        U.S. Highway 53   \n",
       "6315                            1/1/13                    912 Loma Linda Ave.   \n",
       "6316                            1/1/13                 410 S Riverfront Drive   \n",
       "6317                            1/1/13                       3727 N. 42nd St.   \n",
       "6318                            1/1/13  Highway 50 and North Elizabeth Street   \n",
       "\n",
       "            City State  Zipcode     ...     Criminal Charges?  \\\n",
       "6314      Gordon    WI  54838.0     ...      No Known Charges   \n",
       "6315  Farmington    NM  87401.0     ...      No Known Charges   \n",
       "6316     Mankato    MN  56001.0     ...      No Known Charges   \n",
       "6317       Omaha    NE  68111.0     ...      No Known Charges   \n",
       "6318      Pueblo    CO  81008.0     ...      No Known Charges   \n",
       "\n",
       "     Link to news article or photo of official document  \\\n",
       "6314  http://www.superiortelegram.com/content/deputy...   \n",
       "6315  http://www.daily-times.com/farmington-news/ci_...   \n",
       "6316  http://www.tmcnet.com/usubmit/2013/02/21/69388...   \n",
       "6317  http://www.ketv.com/news/Police-chief-details-...   \n",
       "6318  http://www.krdo.com/news/Pueblo-Police-shoot-k...   \n",
       "\n",
       "     Symptoms of mental illness?          Unarmed  \\\n",
       "6314         Drug or alcohol use  Allegedly Armed   \n",
       "6315                          No  Allegedly Armed   \n",
       "6316                          No  Allegedly Armed   \n",
       "6317                         Yes  Allegedly Armed   \n",
       "6318                          No  Allegedly Armed   \n",
       "\n",
       "     Alleged Weapon (Source: WaPo) Alleged Threat Level (Source: WaPo)  \\\n",
       "6314                           NaN                                 NaN   \n",
       "6315                           NaN                                 NaN   \n",
       "6316                           NaN                                 NaN   \n",
       "6317                           NaN                                 NaN   \n",
       "6318                           NaN                                 NaN   \n",
       "\n",
       "     Fleeing (Source: WaPo) Body Camera (Source: WaPo)  \\\n",
       "6314                    NaN                        NaN   \n",
       "6315                    NaN                        NaN   \n",
       "6316                    NaN                        NaN   \n",
       "6317                    NaN                        NaN   \n",
       "6318                    NaN                        NaN   \n",
       "\n",
       "     WaPo ID (If included in WaPo database) Unnamed: 24  \n",
       "6314                                    NaN         NaN  \n",
       "6315                                    NaN         NaN  \n",
       "6316                                    NaN         NaN  \n",
       "6317                                    NaN         NaN  \n",
       "6318                                    NaN         NaN  \n",
       "\n",
       "[5 rows x 25 columns]"
      ]
     },
     "execution_count": 4,
     "metadata": {},
     "output_type": "execute_result"
    }
   ],
   "source": [
    "mpv.tail()"
   ]
  },
  {
   "cell_type": "code",
   "execution_count": 5,
   "metadata": {},
   "outputs": [
    {
     "data": {
      "text/html": [
       "<div>\n",
       "<style scoped>\n",
       "    .dataframe tbody tr th:only-of-type {\n",
       "        vertical-align: middle;\n",
       "    }\n",
       "\n",
       "    .dataframe tbody tr th {\n",
       "        vertical-align: top;\n",
       "    }\n",
       "\n",
       "    .dataframe thead th {\n",
       "        text-align: right;\n",
       "    }\n",
       "</style>\n",
       "<table border=\"1\" class=\"dataframe\">\n",
       "  <thead>\n",
       "    <tr style=\"text-align: right;\">\n",
       "      <th></th>\n",
       "      <th>id</th>\n",
       "      <th>name</th>\n",
       "      <th>date</th>\n",
       "      <th>manner_of_death</th>\n",
       "      <th>armed</th>\n",
       "      <th>age</th>\n",
       "      <th>gender</th>\n",
       "      <th>race</th>\n",
       "      <th>city</th>\n",
       "      <th>state</th>\n",
       "      <th>signs_of_mental_illness</th>\n",
       "      <th>threat_level</th>\n",
       "      <th>flee</th>\n",
       "      <th>body_camera</th>\n",
       "    </tr>\n",
       "  </thead>\n",
       "  <tbody>\n",
       "    <tr>\n",
       "      <th>0</th>\n",
       "      <td>3</td>\n",
       "      <td>Tim Elliot</td>\n",
       "      <td>2015-01-02</td>\n",
       "      <td>shot</td>\n",
       "      <td>gun</td>\n",
       "      <td>53.0</td>\n",
       "      <td>M</td>\n",
       "      <td>A</td>\n",
       "      <td>Shelton</td>\n",
       "      <td>WA</td>\n",
       "      <td>True</td>\n",
       "      <td>attack</td>\n",
       "      <td>Not fleeing</td>\n",
       "      <td>False</td>\n",
       "    </tr>\n",
       "    <tr>\n",
       "      <th>1</th>\n",
       "      <td>4</td>\n",
       "      <td>Lewis Lee Lembke</td>\n",
       "      <td>2015-01-02</td>\n",
       "      <td>shot</td>\n",
       "      <td>gun</td>\n",
       "      <td>47.0</td>\n",
       "      <td>M</td>\n",
       "      <td>W</td>\n",
       "      <td>Aloha</td>\n",
       "      <td>OR</td>\n",
       "      <td>False</td>\n",
       "      <td>attack</td>\n",
       "      <td>Not fleeing</td>\n",
       "      <td>False</td>\n",
       "    </tr>\n",
       "    <tr>\n",
       "      <th>2</th>\n",
       "      <td>5</td>\n",
       "      <td>John Paul Quintero</td>\n",
       "      <td>2015-01-03</td>\n",
       "      <td>shot and Tasered</td>\n",
       "      <td>unarmed</td>\n",
       "      <td>23.0</td>\n",
       "      <td>M</td>\n",
       "      <td>H</td>\n",
       "      <td>Wichita</td>\n",
       "      <td>KS</td>\n",
       "      <td>False</td>\n",
       "      <td>other</td>\n",
       "      <td>Not fleeing</td>\n",
       "      <td>False</td>\n",
       "    </tr>\n",
       "    <tr>\n",
       "      <th>3</th>\n",
       "      <td>8</td>\n",
       "      <td>Matthew Hoffman</td>\n",
       "      <td>2015-01-04</td>\n",
       "      <td>shot</td>\n",
       "      <td>toy weapon</td>\n",
       "      <td>32.0</td>\n",
       "      <td>M</td>\n",
       "      <td>W</td>\n",
       "      <td>San Francisco</td>\n",
       "      <td>CA</td>\n",
       "      <td>True</td>\n",
       "      <td>attack</td>\n",
       "      <td>Not fleeing</td>\n",
       "      <td>False</td>\n",
       "    </tr>\n",
       "    <tr>\n",
       "      <th>4</th>\n",
       "      <td>9</td>\n",
       "      <td>Michael Rodriguez</td>\n",
       "      <td>2015-01-04</td>\n",
       "      <td>shot</td>\n",
       "      <td>nail gun</td>\n",
       "      <td>39.0</td>\n",
       "      <td>M</td>\n",
       "      <td>H</td>\n",
       "      <td>Evans</td>\n",
       "      <td>CO</td>\n",
       "      <td>False</td>\n",
       "      <td>attack</td>\n",
       "      <td>Not fleeing</td>\n",
       "      <td>False</td>\n",
       "    </tr>\n",
       "  </tbody>\n",
       "</table>\n",
       "</div>"
      ],
      "text/plain": [
       "   id                name        date   manner_of_death       armed   age  \\\n",
       "0   3          Tim Elliot  2015-01-02              shot         gun  53.0   \n",
       "1   4    Lewis Lee Lembke  2015-01-02              shot         gun  47.0   \n",
       "2   5  John Paul Quintero  2015-01-03  shot and Tasered     unarmed  23.0   \n",
       "3   8     Matthew Hoffman  2015-01-04              shot  toy weapon  32.0   \n",
       "4   9   Michael Rodriguez  2015-01-04              shot    nail gun  39.0   \n",
       "\n",
       "  gender race           city state  signs_of_mental_illness threat_level  \\\n",
       "0      M    A        Shelton    WA                     True       attack   \n",
       "1      M    W          Aloha    OR                    False       attack   \n",
       "2      M    H        Wichita    KS                    False        other   \n",
       "3      M    W  San Francisco    CA                     True       attack   \n",
       "4      M    H          Evans    CO                    False       attack   \n",
       "\n",
       "          flee  body_camera  \n",
       "0  Not fleeing        False  \n",
       "1  Not fleeing        False  \n",
       "2  Not fleeing        False  \n",
       "3  Not fleeing        False  \n",
       "4  Not fleeing        False  "
      ]
     },
     "execution_count": 5,
     "metadata": {},
     "output_type": "execute_result"
    }
   ],
   "source": [
    "wapo.head()"
   ]
  },
  {
   "cell_type": "markdown",
   "metadata": {},
   "source": [
    "## Different choices of comparing names\n",
    "\n",
    "It's not just a simple \"in\""
   ]
  },
  {
   "cell_type": "code",
   "execution_count": 7,
   "metadata": {},
   "outputs": [
    {
     "data": {
      "text/plain": [
       "False"
      ]
     },
     "execution_count": 7,
     "metadata": {},
     "output_type": "execute_result"
    }
   ],
   "source": [
    "\"Joseph Johnson\" in \"Joseph Walden Johnson Jr.\""
   ]
  },
  {
   "cell_type": "code",
   "execution_count": 18,
   "metadata": {},
   "outputs": [
    {
     "data": {
      "text/plain": [
       "0.8372093023255814"
      ]
     },
     "execution_count": 18,
     "metadata": {},
     "output_type": "execute_result"
    }
   ],
   "source": [
    "lev.ratio(\"Joseph Walden Johnson Jr.\", \"Joseph Johnson Jr.\")"
   ]
  },
  {
   "cell_type": "code",
   "execution_count": 9,
   "metadata": {},
   "outputs": [
    {
     "data": {
      "text/plain": [
       "0.717948717948718"
      ]
     },
     "execution_count": 9,
     "metadata": {},
     "output_type": "execute_result"
    }
   ],
   "source": [
    "SequenceMatcher(None, \"Joseph Walden Johnson Jr.\", \"Joseph Johnson\").ratio()"
   ]
  },
  {
   "cell_type": "markdown",
   "metadata": {},
   "source": [
    "## Dates After 2015\n",
    "\n",
    "From checking the head and tail of the datasets, Mapping Police Violence and Killed By Police data go back to 2013, but Washington Post data only starts in 2015. We'll start the comparison when all 3 datasets record data, 2015."
   ]
  },
  {
   "cell_type": "code",
   "execution_count": 32,
   "metadata": {},
   "outputs": [],
   "source": [
    "# Cleaning data so the format is standardized\n",
    "mpv_dates = mpv[\"Date of Incident (month/day/year)\"].values\n",
    "mpv_months = [int(date[: date.find(\"/\")]) for date in mpv_dates]\n",
    "mpv_years = [int(\"20\" + date[date.rfind(\"/\") + 1: ]) for date in mpv_dates]\n",
    "mpv[\"month\"] = mpv_months\n",
    "mpv[\"year\"] = mpv_years\n",
    "past2015_mpv = mpv[mpv['year'] >= 2015]"
   ]
  },
  {
   "cell_type": "code",
   "execution_count": 33,
   "metadata": {},
   "outputs": [],
   "source": [
    "dates_kbp = kbp[\"date\"].values\n",
    "months_kbp = [date.split()[0] for date in dates_kbp]\n",
    "years_kbp = [int(date.split()[2]) for date in dates_kbp]\n",
    "kbp[\"month\"] = months_kbp\n",
    "kbp[\"year\"] = years_kbp\n",
    "past2015_kbp = kbp[kbp[\"year\"] >= 2015]"
   ]
  },
  {
   "cell_type": "code",
   "execution_count": 35,
   "metadata": {},
   "outputs": [],
   "source": [
    "wapo_names = wapo['name'].values\n",
    "mpv_names = past2015_mpv[\"Victim's name\"].values\n",
    "kbp_names = past2015_kbp['name'].values"
   ]
  },
  {
   "cell_type": "code",
   "execution_count": 37,
   "metadata": {},
   "outputs": [],
   "source": [
    "# cleaning data\n",
    "new_mpv = []\n",
    "for name in mpv_names:\n",
    "    if name != \"Name withheld by police\":\n",
    "        new_mpv.append(name)\n",
    "mpv_names = new_mpv\n",
    "\n",
    "new_wapo = []\n",
    "for name in wapo_names:\n",
    "    if name.lower() != \"tk tk\":\n",
    "        new_wapo.append(name)\n",
    "wapo_names = new_wapo"
   ]
  },
  {
   "cell_type": "code",
   "execution_count": 40,
   "metadata": {},
   "outputs": [
    {
     "name": "stdout",
     "output_type": "stream",
     "text": [
      "Number of names in the Washington Post dataset: \t 3491\n",
      "Number of names in the Mapping Police Violence dataset: \t 4001\n",
      "Number of names in the Killed By Police dataset: \t 3524\n"
     ]
    }
   ],
   "source": [
    "print(\"Number of names in the Washington Post dataset:\", \"\\t\", len(wapo_names))\n",
    "print(\"Number of names in the Mapping Police Violence dataset:\", \"\\t\", len(mpv_names))\n",
    "print(\"Number of names in the Killed By Police dataset:\", \"\\t\", len(kbp_names))"
   ]
  },
  {
   "cell_type": "markdown",
   "metadata": {},
   "source": [
    "## Common Names Across All 3 Datasets"
   ]
  },
  {
   "cell_type": "code",
   "execution_count": 51,
   "metadata": {},
   "outputs": [],
   "source": [
    "list12 = []\n",
    "for name1 in wapo_names:\n",
    "    for name2 in mpv_names:\n",
    "        if lev.ratio(name1, name2) > 0.8:\n",
    "            list12.append(name2)\n",
    "            break"
   ]
  },
  {
   "cell_type": "code",
   "execution_count": 52,
   "metadata": {},
   "outputs": [
    {
     "data": {
      "text/plain": [
       "2480"
      ]
     },
     "execution_count": 52,
     "metadata": {},
     "output_type": "execute_result"
    }
   ],
   "source": [
    "common_names = []\n",
    "for name12 in list12:\n",
    "    for name3 in kbp_names:\n",
    "        if lev.ratio(name12, name3) > 0.8:\n",
    "            common_names.append(name3)\n",
    "            break\n",
    "len(common_names)"
   ]
  },
  {
   "cell_type": "markdown",
   "metadata": {},
   "source": [
    "### Common Names Across Killed By Police and Washington Post"
   ]
  },
  {
   "cell_type": "code",
   "execution_count": 53,
   "metadata": {},
   "outputs": [
    {
     "data": {
      "text/plain": [
       "2667"
      ]
     },
     "execution_count": 53,
     "metadata": {},
     "output_type": "execute_result"
    }
   ],
   "source": [
    "kbp_x_wapo = []\n",
    "list12missing = []\n",
    "for name1 in wapo_names:\n",
    "    found = False\n",
    "    for name2 in kbp_names:\n",
    "        if lev.ratio(name1, name2) > 0.8:\n",
    "            kbp_x_wapo.append(name1)\n",
    "            found = True\n",
    "            break\n",
    "    if not found:\n",
    "        list12missing.append(name1)\n",
    "len(kbp_x_wapo)"
   ]
  },
  {
   "cell_type": "markdown",
   "metadata": {},
   "source": [
    "### Common Names Across Killed By Police and Mapping Police Violence"
   ]
  },
  {
   "cell_type": "code",
   "execution_count": 54,
   "metadata": {},
   "outputs": [
    {
     "data": {
      "text/plain": [
       "3030"
      ]
     },
     "execution_count": 54,
     "metadata": {},
     "output_type": "execute_result"
    }
   ],
   "source": [
    "kbp_x_mpv = []\n",
    "list12missing = []\n",
    "for name1 in mpv_names:\n",
    "    found = False\n",
    "    for name2 in kbp_names:\n",
    "        if lev.ratio(name1, name2) > 0.8:\n",
    "            kbp_x_mpv.append(name1)\n",
    "            found = True\n",
    "            break\n",
    "    if not found:\n",
    "        list12missing.append(name1)\n",
    "len(kbp_x_mpv)"
   ]
  },
  {
   "cell_type": "markdown",
   "metadata": {},
   "source": [
    "### Common Names Across Mapping Police Violence and Washington Post"
   ]
  },
  {
   "cell_type": "code",
   "execution_count": 55,
   "metadata": {},
   "outputs": [
    {
     "data": {
      "text/plain": [
       "3122"
      ]
     },
     "execution_count": 55,
     "metadata": {},
     "output_type": "execute_result"
    }
   ],
   "source": [
    "kbp_x_mpv = []\n",
    "list12missing = []\n",
    "for name1 in mpv_names:\n",
    "    found = False\n",
    "    for name2 in wapo_names:\n",
    "        if lev.ratio(name1, name2) > 0.8:\n",
    "            kbp_x_mpv.append(name1)\n",
    "            found = True\n",
    "            break\n",
    "    if not found:\n",
    "        list12missing.append(name1)\n",
    "len(kbp_x_mpv)"
   ]
  },
  {
   "cell_type": "code",
   "execution_count": 56,
   "metadata": {},
   "outputs": [
    {
     "data": {
      "text/plain": [
       "['Jesse Darian Carrillo',\n",
       " 'Tim Gohann Braun',\n",
       " 'Joey Loop',\n",
       " 'William \"T.J.\" T. Jefferson McCollum',\n",
       " 'Harold Eugene Kraai',\n",
       " 'Ryan Turner Force',\n",
       " 'Frank W. \"Franko\" Dripps IV',\n",
       " 'Christian T. Webb',\n",
       " 'Millard Barry Clark Jr.',\n",
       " 'Daniel Isaiah Norris']"
      ]
     },
     "execution_count": 56,
     "metadata": {},
     "output_type": "execute_result"
    }
   ],
   "source": [
    "list12missing[0:10]"
   ]
  },
  {
   "cell_type": "markdown",
   "metadata": {},
   "source": [
    "## Common Names Across Mapping Police Violence and Washington Post"
   ]
  },
  {
   "cell_type": "code",
   "execution_count": 45,
   "metadata": {},
   "outputs": [
    {
     "data": {
      "text/plain": [
       "3120"
      ]
     },
     "execution_count": 45,
     "metadata": {},
     "output_type": "execute_result"
    }
   ],
   "source": [
    "list13 = []\n",
    "for name1 in wsp:\n",
    "    for name2 in mpv:\n",
    "        if lev.ratio(name1, name2) > 0.7:\n",
    "            list13.append(name2)\n",
    "            break\n",
    "len(list13)"
   ]
  },
  {
   "cell_type": "markdown",
   "metadata": {},
   "source": [
    "## Common Names Across Killed By Police and Mapping Police Violence"
   ]
  },
  {
   "cell_type": "code",
   "execution_count": 46,
   "metadata": {},
   "outputs": [
    {
     "data": {
      "text/plain": [
       "2983"
      ]
     },
     "execution_count": 46,
     "metadata": {},
     "output_type": "execute_result"
    }
   ],
   "source": [
    "list23 = []\n",
    "for name1 in kbp:\n",
    "    for name2 in mpv:\n",
    "        if lev.ratio(name1, name2) > 0.7:\n",
    "            list23.append(name2)\n",
    "            break\n",
    "len(list23)"
   ]
  }
 ],
 "metadata": {
  "kernelspec": {
   "display_name": "Python 3",
   "language": "python",
   "name": "python3"
  },
  "language_info": {
   "codemirror_mode": {
    "name": "ipython",
    "version": 3
   },
   "file_extension": ".py",
   "mimetype": "text/x-python",
   "name": "python",
   "nbconvert_exporter": "python",
   "pygments_lexer": "ipython3",
   "version": "3.6.4"
  }
 },
 "nbformat": 4,
 "nbformat_minor": 2
}
