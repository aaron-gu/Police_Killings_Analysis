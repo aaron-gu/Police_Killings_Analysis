{
 "cells": [
  {
   "cell_type": "code",
   "execution_count": 108,
   "metadata": {},
   "outputs": [
    {
     "data": {
      "text/html": [
       "<script>requirejs.config({paths: { 'plotly': ['https://cdn.plot.ly/plotly-latest.min']},});if(!window.Plotly) {{require(['plotly'],function(plotly) {window.Plotly=plotly;});}}</script>"
      ],
      "text/vnd.plotly.v1+html": [
       "<script>requirejs.config({paths: { 'plotly': ['https://cdn.plot.ly/plotly-latest.min']},});if(!window.Plotly) {{require(['plotly'],function(plotly) {window.Plotly=plotly;});}}</script>"
      ]
     },
     "metadata": {},
     "output_type": "display_data"
    }
   ],
   "source": [
    "import pandas as pd\n",
    "import numpy as np\n",
    "import re\n",
    "import plotly.plotly as py\n",
    "import plotly.figure_factory as ff\n",
    "from plotly.graph_objs import *\n",
    "from plotly.offline import init_notebook_mode, iplot\n",
    "import matplotlib.pyplot as plt\n",
    "init_notebook_mode(connected=True)"
   ]
  },
  {
   "cell_type": "code",
   "execution_count": 109,
   "metadata": {},
   "outputs": [],
   "source": [
    "kbp = pd.read_csv(\"killedbypolice.csv\")\n",
    "mpv = pd.read_csv(\"MPVDatasetDownload.csv\")\n",
    "wsp = pd.read_csv(\"https://raw.githubusercontent.com/washingtonpost/data-police-shootings/master/fatal-police-shootings-data.csv\")"
   ]
  },
  {
   "cell_type": "code",
   "execution_count": 110,
   "metadata": {},
   "outputs": [],
   "source": [
    "mpv = mpv[[\"Victim's name\", \"Victim's age\", \"Victim's race\", \"Victim's gender\", \"Date of Incident (month/day/year)\", \"City\", \"State\", \"Cause of death\", \"Body Camera (Source: WaPo)\"]]\n",
    "mpv = mpv[mpv[\"Victim's age\"] != \"Unknown\"]\n",
    "mpv[\"Victim's age\"] = [entry if type(entry)==float else entry[0:2] for entry in mpv[\"Victim's age\"]]\n",
    "mpv[\"Victim's age\"] = pd.to_numeric(mpv[\"Victim's age\"])"
   ]
  },
  {
   "cell_type": "markdown",
   "metadata": {},
   "source": [
    "# Creating a bar chart of months"
   ]
  },
  {
   "cell_type": "code",
   "execution_count": 111,
   "metadata": {},
   "outputs": [],
   "source": [
    "# creating a column for month and year in Washington Post data\n",
    "dateswsp = list(wsp[\"date\"])\n",
    "monthwsp = [date[date.find(\"-\")+1:date.find(\"-\")+3] for date in dateswsp]\n",
    "yearwsp = [int(date[0:date.find(\"-\")]) for date in dateswsp]\n",
    "months = {\"01\": \"January\",\n",
    "         \"02\": \"February\",\n",
    "         \"03\": \"March\",\n",
    "         \"04\": \"April\",\n",
    "         \"05\": \"May\",\n",
    "         \"06\": \"June\",\n",
    "         \"07\": \"July\",\n",
    "         \"08\": \"August\",\n",
    "         \"09\": \"September\",\n",
    "         \"10\": \"October\",\n",
    "         \"11\": \"November\",\n",
    "         \"12\": \"December\"}\n",
    "monthwsp = [month.replace(month, months[month]) for month in monthwsp]\n",
    "wsp[\"month\"] = np.array(monthwsp)\n",
    "wsp[\"year\"] = np.array(yearwsp)"
   ]
  },
  {
   "cell_type": "code",
   "execution_count": 112,
   "metadata": {},
   "outputs": [],
   "source": [
    "groupings = wsp.groupby([\"year\", \"month\"]).count()\n",
    "months2015 = groupings.loc[2015][\"id\"]\n",
    "months2016 = groupings.loc[2016][\"id\"]\n",
    "months2017 = groupings.loc[2017][\"id\"]\n",
    "months2018 = groupings.loc[2018][\"id\"]"
   ]
  },
  {
   "cell_type": "code",
   "execution_count": 113,
   "metadata": {},
   "outputs": [
    {
     "data": {
      "text/plain": [
       "month\n",
       "April         84\n",
       "August        94\n",
       "December      89\n",
       "February      77\n",
       "January       76\n",
       "July         104\n",
       "June          65\n",
       "March         92\n",
       "May           71\n",
       "November      77\n",
       "October       84\n",
       "September     82\n",
       "Name: id, dtype: int64"
      ]
     },
     "execution_count": 113,
     "metadata": {},
     "output_type": "execute_result"
    }
   ],
   "source": [
    "months2015"
   ]
  },
  {
   "cell_type": "code",
   "execution_count": 114,
   "metadata": {},
   "outputs": [],
   "source": [
    "months = [\"January\", \"February\", \"March\", \"April\", \"May\", \"June\", \"July\", \"August\", \"September\", \"October\", \"November\", \"December\"]\n",
    "kill2015 = []\n",
    "kill2016 = []\n",
    "kill2017 = []\n",
    "kill2018 = []\n",
    "for month in months:\n",
    "    kill2015.append(months2015.loc[month])\n",
    "    kill2016.append(months2016.loc[month])\n",
    "    kill2017.append(months2017.loc[month])\n",
    "    try:\n",
    "        kill2018.append(months2018.loc[month])\n",
    "    except:\n",
    "        continue\n",
    "kill2018+=[0]*(12 - len(kill2018))"
   ]
  },
  {
   "cell_type": "code",
   "execution_count": 115,
   "metadata": {},
   "outputs": [],
   "source": [
    "trace_2015 = Bar(x=months,\n",
    "                y=kill2015,\n",
    "                name='2015',\n",
    "                marker=dict(color='#ffcdd2'))\n",
    "\n",
    "trace_2016 = Bar(x=months,\n",
    "                y=kill2016,\n",
    "                name='2016',\n",
    "                marker=dict(color='#A2D5F2'))\n",
    "\n",
    "trace_2017 = Bar(x=months,\n",
    "                y=kill2017,\n",
    "                name='2017',\n",
    "                marker=dict(color='#59606D'))\n",
    "trace_2018 = Bar(x=months,\n",
    "                y=kill2018,\n",
    "                name='2018',\n",
    "                marker=dict(color='#111111'))\n",
    "\n",
    "data = [trace_2015, trace_2016, trace_2017, trace_2018]\n",
    "layout = Layout(title=\"Fatal Police Shootings per Month\",\n",
    "                xaxis=dict(title='Month'),\n",
    "                yaxis=dict(title='Deaths'))\n",
    "fig = Figure(data=data, layout=layout)"
   ]
  },
  {
   "cell_type": "code",
   "execution_count": 116,
   "metadata": {},
   "outputs": [
    {
     "data": {
      "application/vnd.plotly.v1+json": {
       "data": [
        {
         "marker": {
          "color": "#ffcdd2"
         },
         "name": "2015",
         "type": "bar",
         "x": [
          "January",
          "February",
          "March",
          "April",
          "May",
          "June",
          "July",
          "August",
          "September",
          "October",
          "November",
          "December"
         ],
         "y": [
          76,
          77,
          92,
          84,
          71,
          65,
          104,
          94,
          82,
          84,
          77,
          89
         ]
        },
        {
         "marker": {
          "color": "#A2D5F2"
         },
         "name": "2016",
         "type": "bar",
         "x": [
          "January",
          "February",
          "March",
          "April",
          "May",
          "June",
          "July",
          "August",
          "September",
          "October",
          "November",
          "December"
         ],
         "y": [
          81,
          86,
          92,
          73,
          74,
          92,
          72,
          82,
          78,
          77,
          78,
          78
         ]
        },
        {
         "marker": {
          "color": "#59606D"
         },
         "name": "2017",
         "type": "bar",
         "x": [
          "January",
          "February",
          "March",
          "April",
          "May",
          "June",
          "July",
          "August",
          "September",
          "October",
          "November",
          "December"
         ],
         "y": [
          92,
          100,
          76,
          67,
          74,
          84,
          94,
          82,
          70,
          85,
          84,
          79
         ]
        },
        {
         "marker": {
          "color": "#111111"
         },
         "name": "2018",
         "type": "bar",
         "x": [
          "January",
          "February",
          "March",
          "April",
          "May",
          "June",
          "July",
          "August",
          "September",
          "October",
          "November",
          "December"
         ],
         "y": [
          92,
          76,
          105,
          88,
          39,
          0,
          0,
          0,
          0,
          0,
          0,
          0
         ]
        }
       ],
       "layout": {
        "title": "Fatal Police Shootings per Month",
        "xaxis": {
         "title": "Month"
        },
        "yaxis": {
         "title": "Deaths"
        }
       }
      },
      "text/html": [
       "<div id=\"570c2e13-5e15-49cc-ad62-276f23fa1908\" style=\"height: 525px; width: 100%;\" class=\"plotly-graph-div\"></div><script type=\"text/javascript\">require([\"plotly\"], function(Plotly) { window.PLOTLYENV=window.PLOTLYENV || {};window.PLOTLYENV.BASE_URL=\"https://plot.ly\";Plotly.newPlot(\"570c2e13-5e15-49cc-ad62-276f23fa1908\", [{\"type\": \"bar\", \"x\": [\"January\", \"February\", \"March\", \"April\", \"May\", \"June\", \"July\", \"August\", \"September\", \"October\", \"November\", \"December\"], \"y\": [76, 77, 92, 84, 71, 65, 104, 94, 82, 84, 77, 89], \"name\": \"2015\", \"marker\": {\"color\": \"#ffcdd2\"}}, {\"type\": \"bar\", \"x\": [\"January\", \"February\", \"March\", \"April\", \"May\", \"June\", \"July\", \"August\", \"September\", \"October\", \"November\", \"December\"], \"y\": [81, 86, 92, 73, 74, 92, 72, 82, 78, 77, 78, 78], \"name\": \"2016\", \"marker\": {\"color\": \"#A2D5F2\"}}, {\"type\": \"bar\", \"x\": [\"January\", \"February\", \"March\", \"April\", \"May\", \"June\", \"July\", \"August\", \"September\", \"October\", \"November\", \"December\"], \"y\": [92, 100, 76, 67, 74, 84, 94, 82, 70, 85, 84, 79], \"name\": \"2017\", \"marker\": {\"color\": \"#59606D\"}}, {\"type\": \"bar\", \"x\": [\"January\", \"February\", \"March\", \"April\", \"May\", \"June\", \"July\", \"August\", \"September\", \"October\", \"November\", \"December\"], \"y\": [92, 76, 105, 88, 39, 0, 0, 0, 0, 0, 0, 0], \"name\": \"2018\", \"marker\": {\"color\": \"#111111\"}}], {\"title\": \"Fatal Police Shootings per Month\", \"xaxis\": {\"title\": \"Month\"}, \"yaxis\": {\"title\": \"Deaths\"}}, {\"showLink\": true, \"linkText\": \"Export to plot.ly\"})});</script>"
      ],
      "text/vnd.plotly.v1+html": [
       "<div id=\"570c2e13-5e15-49cc-ad62-276f23fa1908\" style=\"height: 525px; width: 100%;\" class=\"plotly-graph-div\"></div><script type=\"text/javascript\">require([\"plotly\"], function(Plotly) { window.PLOTLYENV=window.PLOTLYENV || {};window.PLOTLYENV.BASE_URL=\"https://plot.ly\";Plotly.newPlot(\"570c2e13-5e15-49cc-ad62-276f23fa1908\", [{\"type\": \"bar\", \"x\": [\"January\", \"February\", \"March\", \"April\", \"May\", \"June\", \"July\", \"August\", \"September\", \"October\", \"November\", \"December\"], \"y\": [76, 77, 92, 84, 71, 65, 104, 94, 82, 84, 77, 89], \"name\": \"2015\", \"marker\": {\"color\": \"#ffcdd2\"}}, {\"type\": \"bar\", \"x\": [\"January\", \"February\", \"March\", \"April\", \"May\", \"June\", \"July\", \"August\", \"September\", \"October\", \"November\", \"December\"], \"y\": [81, 86, 92, 73, 74, 92, 72, 82, 78, 77, 78, 78], \"name\": \"2016\", \"marker\": {\"color\": \"#A2D5F2\"}}, {\"type\": \"bar\", \"x\": [\"January\", \"February\", \"March\", \"April\", \"May\", \"June\", \"July\", \"August\", \"September\", \"October\", \"November\", \"December\"], \"y\": [92, 100, 76, 67, 74, 84, 94, 82, 70, 85, 84, 79], \"name\": \"2017\", \"marker\": {\"color\": \"#59606D\"}}, {\"type\": \"bar\", \"x\": [\"January\", \"February\", \"March\", \"April\", \"May\", \"June\", \"July\", \"August\", \"September\", \"October\", \"November\", \"December\"], \"y\": [92, 76, 105, 88, 39, 0, 0, 0, 0, 0, 0, 0], \"name\": \"2018\", \"marker\": {\"color\": \"#111111\"}}], {\"title\": \"Fatal Police Shootings per Month\", \"xaxis\": {\"title\": \"Month\"}, \"yaxis\": {\"title\": \"Deaths\"}}, {\"showLink\": true, \"linkText\": \"Export to plot.ly\"})});</script>"
      ]
     },
     "metadata": {},
     "output_type": "display_data"
    }
   ],
   "source": [
    "iplot(fig)"
   ]
  },
  {
   "cell_type": "markdown",
   "metadata": {},
   "source": [
    "## Gender Breakdown by Month"
   ]
  },
  {
   "cell_type": "markdown",
   "metadata": {},
   "source": [
    "first, need the months in order (not alphabetical)"
   ]
  },
  {
   "cell_type": "code",
   "execution_count": 117,
   "metadata": {},
   "outputs": [],
   "source": [
    "monthnum = []\n",
    "months = {\n",
    "    \"January\": 1,\n",
    "    \"February\": 2,\n",
    "    \"March\": 3,\n",
    "    \"April\": 4,\n",
    "    \"May\": 5,\n",
    "    \"June\": 6,\n",
    "    \"July\": 7,\n",
    "    \"August\": 8,\n",
    "    \"September\": 9,\n",
    "    \"October\": 10,\n",
    "    \"November\": 11,\n",
    "    \"December\": 12\n",
    "}\n",
    "for month in wsp.month:\n",
    "    monthnum.append(months[month])\n",
    "wsp[\"monthnum\"] = monthnum"
   ]
  },
  {
   "cell_type": "markdown",
   "metadata": {},
   "source": [
    "then, filter out the 2018 dates"
   ]
  },
  {
   "cell_type": "code",
   "execution_count": 118,
   "metadata": {},
   "outputs": [],
   "source": [
    "wsp = wsp.loc[wsp[\"year\"]!=2018]"
   ]
  },
  {
   "cell_type": "code",
   "execution_count": 119,
   "metadata": {},
   "outputs": [],
   "source": [
    "gendermonth = wsp.groupby([\"gender\", \"monthnum\"]).count()[\"id\"]\n",
    "femalemonth = gendermonth[gendermonth.index.get_level_values(\"gender\") == \"F\"]\n",
    "malemonth = gendermonth[gendermonth.index.get_level_values(\"gender\") == \"M\"]\n",
    "months = [\"January\", \"February\", \"March\", \"April\", \"May\", \"June\", \"July\", \"August\", \"September\", \"October\", \"November\", \"December\"]"
   ]
  },
  {
   "cell_type": "code",
   "execution_count": 120,
   "metadata": {},
   "outputs": [
    {
     "data": {
      "application/vnd.plotly.v1+json": {
       "data": [
        {
         "name": "Male",
         "type": "bar",
         "x": [
          "January",
          "February",
          "March",
          "April",
          "May",
          "June",
          "July",
          "August",
          "September",
          "October",
          "November",
          "December"
         ],
         "y": [
          237,
          248,
          247,
          215,
          210,
          232,
          262,
          249,
          224,
          228,
          232,
          232
         ]
        },
        {
         "name": "Female",
         "type": "bar",
         "x": [
          "January",
          "February",
          "March",
          "April",
          "May",
          "June",
          "July",
          "August",
          "September",
          "October",
          "November",
          "December"
         ],
         "y": [
          12,
          15,
          13,
          9,
          9,
          9,
          8,
          9,
          5,
          18,
          7,
          13
         ]
        }
       ],
       "layout": {
        "barmode": "stack",
        "title": "People of Each Gender Killed Per Month",
        "xaxis": {
         "title": "Month"
        },
        "yaxis": {
         "title": "Deaths"
        }
       }
      },
      "text/html": [
       "<div id=\"dc341c2a-eb51-4ddf-9e95-829334ae83fc\" style=\"height: 525px; width: 100%;\" class=\"plotly-graph-div\"></div><script type=\"text/javascript\">require([\"plotly\"], function(Plotly) { window.PLOTLYENV=window.PLOTLYENV || {};window.PLOTLYENV.BASE_URL=\"https://plot.ly\";Plotly.newPlot(\"dc341c2a-eb51-4ddf-9e95-829334ae83fc\", [{\"type\": \"bar\", \"x\": [\"January\", \"February\", \"March\", \"April\", \"May\", \"June\", \"July\", \"August\", \"September\", \"October\", \"November\", \"December\"], \"y\": [237, 248, 247, 215, 210, 232, 262, 249, 224, 228, 232, 232], \"name\": \"Male\"}, {\"type\": \"bar\", \"x\": [\"January\", \"February\", \"March\", \"April\", \"May\", \"June\", \"July\", \"August\", \"September\", \"October\", \"November\", \"December\"], \"y\": [12, 15, 13, 9, 9, 9, 8, 9, 5, 18, 7, 13], \"name\": \"Female\"}], {\"title\": \"People of Each Gender Killed Per Month\", \"xaxis\": {\"title\": \"Month\"}, \"yaxis\": {\"title\": \"Deaths\"}, \"barmode\": \"stack\"}, {\"showLink\": true, \"linkText\": \"Export to plot.ly\"})});</script>"
      ],
      "text/vnd.plotly.v1+html": [
       "<div id=\"dc341c2a-eb51-4ddf-9e95-829334ae83fc\" style=\"height: 525px; width: 100%;\" class=\"plotly-graph-div\"></div><script type=\"text/javascript\">require([\"plotly\"], function(Plotly) { window.PLOTLYENV=window.PLOTLYENV || {};window.PLOTLYENV.BASE_URL=\"https://plot.ly\";Plotly.newPlot(\"dc341c2a-eb51-4ddf-9e95-829334ae83fc\", [{\"type\": \"bar\", \"x\": [\"January\", \"February\", \"March\", \"April\", \"May\", \"June\", \"July\", \"August\", \"September\", \"October\", \"November\", \"December\"], \"y\": [237, 248, 247, 215, 210, 232, 262, 249, 224, 228, 232, 232], \"name\": \"Male\"}, {\"type\": \"bar\", \"x\": [\"January\", \"February\", \"March\", \"April\", \"May\", \"June\", \"July\", \"August\", \"September\", \"October\", \"November\", \"December\"], \"y\": [12, 15, 13, 9, 9, 9, 8, 9, 5, 18, 7, 13], \"name\": \"Female\"}], {\"title\": \"People of Each Gender Killed Per Month\", \"xaxis\": {\"title\": \"Month\"}, \"yaxis\": {\"title\": \"Deaths\"}, \"barmode\": \"stack\"}, {\"showLink\": true, \"linkText\": \"Export to plot.ly\"})});</script>"
      ]
     },
     "metadata": {},
     "output_type": "display_data"
    }
   ],
   "source": [
    "trace_male = Bar(x=months,\n",
    "                 y=list(malemonth),\n",
    "                name='Male')\n",
    "trace_female = Bar(x=months,\n",
    "                 y=list(femalemonth),\n",
    "                name='Female')\n",
    "data = [trace_male, trace_female]\n",
    "layout = Layout(title=\"People of Each Gender Killed Per Month\",\n",
    "                xaxis=dict(title='Month'),\n",
    "                yaxis=dict(title='Deaths'),\n",
    "               barmode='stack')\n",
    "fig = Figure(data=data, layout=layout)\n",
    "iplot(fig)"
   ]
  },
  {
   "cell_type": "markdown",
   "metadata": {},
   "source": [
    "## Armed Breakdown by Age"
   ]
  },
  {
   "cell_type": "code",
   "execution_count": 121,
   "metadata": {},
   "outputs": [],
   "source": [
    "newarmed = []\n",
    "for arm in wsp.armed:\n",
    "    if arm == 'unarmed':\n",
    "        arm = 'unarmed'\n",
    "    else:\n",
    "        arm = 'armed'\n",
    "    newarmed.append(arm)\n",
    "wsp.armed = newarmed"
   ]
  },
  {
   "cell_type": "code",
   "execution_count": 122,
   "metadata": {},
   "outputs": [],
   "source": [
    "agecat = []\n",
    "for age in wsp.age:\n",
    "    if age<=18:\n",
    "        agecat.append(\"Under 18\")\n",
    "    elif age>18 and age<=38:\n",
    "        agecat.append(\"Gen Y\")\n",
    "    elif age>38 and age<=53:\n",
    "        agecat.append(\"Gen X\")\n",
    "    else:\n",
    "        agecat.append(\"Baby Boomer\")\n",
    "wsp[\"age_categorical\"] = agecat"
   ]
  },
  {
   "cell_type": "code",
   "execution_count": 123,
   "metadata": {},
   "outputs": [
    {
     "data": {
      "text/plain": [
       "armed    age_categorical\n",
       "armed    Baby Boomer         397\n",
       "         Gen X               713\n",
       "         Gen Y              1519\n",
       "         Under 18            103\n",
       "unarmed  Baby Boomer          15\n",
       "         Gen X                33\n",
       "         Gen Y               149\n",
       "         Under 18             16\n",
       "Name: id, dtype: int64"
      ]
     },
     "execution_count": 123,
     "metadata": {},
     "output_type": "execute_result"
    }
   ],
   "source": [
    "wsp.groupby([\"armed\", \"age_categorical\"]).count()[\"id\"]"
   ]
  },
  {
   "cell_type": "code",
   "execution_count": 124,
   "metadata": {},
   "outputs": [
    {
     "data": {
      "application/vnd.plotly.v1+json": {
       "data": [
        {
         "labels": [
          "Baby Boomer",
          "Gen X",
          "Gen Y",
          "Under 18"
         ],
         "type": "pie",
         "values": [
          472,
          800,
          1677,
          111
         ]
        }
       ],
       "layout": {}
      },
      "text/html": [
       "<div id=\"559b26a4-f25b-49f8-ae29-f3385a61ff32\" style=\"height: 525px; width: 100%;\" class=\"plotly-graph-div\"></div><script type=\"text/javascript\">require([\"plotly\"], function(Plotly) { window.PLOTLYENV=window.PLOTLYENV || {};window.PLOTLYENV.BASE_URL=\"https://plot.ly\";Plotly.newPlot(\"559b26a4-f25b-49f8-ae29-f3385a61ff32\", [{\"type\": \"pie\", \"labels\": [\"Baby Boomer\", \"Gen X\", \"Gen Y\", \"Under 18\"], \"values\": [472, 800, 1677, 111]}], {}, {\"showLink\": true, \"linkText\": \"Export to plot.ly\"})});</script>"
      ],
      "text/vnd.plotly.v1+html": [
       "<div id=\"559b26a4-f25b-49f8-ae29-f3385a61ff32\" style=\"height: 525px; width: 100%;\" class=\"plotly-graph-div\"></div><script type=\"text/javascript\">require([\"plotly\"], function(Plotly) { window.PLOTLYENV=window.PLOTLYENV || {};window.PLOTLYENV.BASE_URL=\"https://plot.ly\";Plotly.newPlot(\"559b26a4-f25b-49f8-ae29-f3385a61ff32\", [{\"type\": \"pie\", \"labels\": [\"Baby Boomer\", \"Gen X\", \"Gen Y\", \"Under 18\"], \"values\": [472, 800, 1677, 111]}], {}, {\"showLink\": true, \"linkText\": \"Export to plot.ly\"})});</script>"
      ]
     },
     "metadata": {},
     "output_type": "display_data"
    }
   ],
   "source": [
    "labels = [\"Baby Boomer\", \"Gen X\", \"Gen Y\", \"Under 18\"]\n",
    "values = [472, 800, 1677, 111]\n",
    "trace = Pie(labels=labels, values=values)\n",
    "iplot([trace])"
   ]
  },
  {
   "cell_type": "code",
   "execution_count": 125,
   "metadata": {},
   "outputs": [
    {
     "data": {
      "application/vnd.plotly.v1+json": {
       "data": [
        {
         "labels": [
          "Baby Boomer",
          "Gen X",
          "Gen Y",
          "Under 18"
         ],
         "type": "pie",
         "values": [
          17,
          38,
          158,
          16
         ]
        }
       ],
       "layout": {}
      },
      "text/html": [
       "<div id=\"1177902e-adff-44f4-a9ab-936318febb07\" style=\"height: 525px; width: 100%;\" class=\"plotly-graph-div\"></div><script type=\"text/javascript\">require([\"plotly\"], function(Plotly) { window.PLOTLYENV=window.PLOTLYENV || {};window.PLOTLYENV.BASE_URL=\"https://plot.ly\";Plotly.newPlot(\"1177902e-adff-44f4-a9ab-936318febb07\", [{\"type\": \"pie\", \"labels\": [\"Baby Boomer\", \"Gen X\", \"Gen Y\", \"Under 18\"], \"values\": [17, 38, 158, 16]}], {}, {\"showLink\": true, \"linkText\": \"Export to plot.ly\"})});</script>"
      ],
      "text/vnd.plotly.v1+html": [
       "<div id=\"1177902e-adff-44f4-a9ab-936318febb07\" style=\"height: 525px; width: 100%;\" class=\"plotly-graph-div\"></div><script type=\"text/javascript\">require([\"plotly\"], function(Plotly) { window.PLOTLYENV=window.PLOTLYENV || {};window.PLOTLYENV.BASE_URL=\"https://plot.ly\";Plotly.newPlot(\"1177902e-adff-44f4-a9ab-936318febb07\", [{\"type\": \"pie\", \"labels\": [\"Baby Boomer\", \"Gen X\", \"Gen Y\", \"Under 18\"], \"values\": [17, 38, 158, 16]}], {}, {\"showLink\": true, \"linkText\": \"Export to plot.ly\"})});</script>"
      ]
     },
     "metadata": {},
     "output_type": "display_data"
    }
   ],
   "source": [
    "labels = [\"Baby Boomer\", \"Gen X\", \"Gen Y\", \"Under 18\"]\n",
    "values = [17, 38, 158, 16]\n",
    "trace = Pie(labels=labels, values=values)\n",
    "iplot([trace])"
   ]
  },
  {
   "cell_type": "code",
   "execution_count": 126,
   "metadata": {},
   "outputs": [
    {
     "data": {
      "text/plain": [
       "armed    age_categorical\n",
       "armed    Baby Boomer         397\n",
       "         Gen X               713\n",
       "         Gen Y              1519\n",
       "         Under 18            103\n",
       "unarmed  Baby Boomer          15\n",
       "         Gen X                33\n",
       "         Gen Y               149\n",
       "         Under 18             16\n",
       "Name: id, dtype: int64"
      ]
     },
     "execution_count": 126,
     "metadata": {},
     "output_type": "execute_result"
    }
   ],
   "source": [
    "wsp.groupby([\"armed\", \"age_categorical\"]).count()[\"id\"]"
   ]
  },
  {
   "cell_type": "code",
   "execution_count": 127,
   "metadata": {},
   "outputs": [],
   "source": [
    "labels = [\"armed\", \"unarmed\"]"
   ]
  },
  {
   "cell_type": "code",
   "execution_count": 128,
   "metadata": {},
   "outputs": [
    {
     "data": {
      "application/vnd.plotly.v1+json": {
       "data": [
        {
         "domain": {
          "x": [
           0,
           0.48
          ],
          "y": [
           0,
           0.49
          ]
         },
         "hoverinfo": "label+percent+name",
         "labels": [
          "armed",
          "unarmed"
         ],
         "marker": {
          "colors": [
           "#2f4f4f",
           "#d3d3d3"
          ]
         },
         "name": "Baby Boomer",
         "textinfo": "none",
         "type": "pie",
         "values": [
          472,
          18
         ]
        },
        {
         "domain": {
          "x": [
           0.52,
           1
          ],
          "y": [
           0,
           0.49
          ]
         },
         "hoverinfo": "label+percent+name",
         "labels": [
          "armed",
          "unarmed"
         ],
         "marker": {
          "colors": [
           "#2f4f4f",
           "#d3d3d3"
          ]
         },
         "name": "Gen X",
         "textinfo": "none",
         "type": "pie",
         "values": [
          801,
          38
         ]
        },
        {
         "domain": {
          "x": [
           0,
           0.48
          ],
          "y": [
           0.51,
           1
          ]
         },
         "hoverinfo": "label+percent+name",
         "labels": [
          "armed",
          "unarmed"
         ],
         "marker": {
          "colors": [
           "#2f4f4f",
           "#d3d3d3"
          ]
         },
         "name": "Gen Y",
         "textinfo": "none",
         "type": "pie",
         "values": [
          1679,
          158
         ]
        },
        {
         "domain": {
          "x": [
           0.52,
           1
          ],
          "y": [
           0.51,
           1
          ]
         },
         "hoverinfo": "label+percent+name",
         "labels": [
          "armed",
          "unarmed"
         ],
         "marker": {
          "colors": [
           "#2f4f4f",
           "#d3d3d3"
          ]
         },
         "name": "Under 18",
         "textinfo": "none",
         "type": "pie",
         "values": [
          111,
          16
         ]
        }
       ],
       "layout": {
        "annotations": [
         {
          "font": {
           "size": 16
          },
          "showarrow": false,
          "text": "Gen Y",
          "x": 0.07,
          "y": 1
         },
         {
          "font": {
           "size": 16
          },
          "showarrow": false,
          "text": "Under 18",
          "x": 0.6,
          "y": 1
         },
         {
          "font": {
           "size": 16
          },
          "showarrow": false,
          "text": "Baby Boomer",
          "x": -0.03,
          "y": 0.4
         },
         {
          "font": {
           "size": 16
          },
          "showarrow": false,
          "text": "Gen X",
          "x": 0.6,
          "y": 0.4
         }
        ],
        "title": "Percentage of Armed and Unarmed People per Age Group"
       }
      },
      "text/html": [
       "<div id=\"f062cc79-a8c6-4b80-a541-ddca088edfd6\" style=\"height: 525px; width: 100%;\" class=\"plotly-graph-div\"></div><script type=\"text/javascript\">require([\"plotly\"], function(Plotly) { window.PLOTLYENV=window.PLOTLYENV || {};window.PLOTLYENV.BASE_URL=\"https://plot.ly\";Plotly.newPlot(\"f062cc79-a8c6-4b80-a541-ddca088edfd6\", [{\"labels\": [\"armed\", \"unarmed\"], \"values\": [472, 18], \"type\": \"pie\", \"name\": \"Baby Boomer\", \"marker\": {\"colors\": [\"#2f4f4f\", \"#d3d3d3\"]}, \"domain\": {\"x\": [0, 0.48], \"y\": [0, 0.49]}, \"hoverinfo\": \"label+percent+name\", \"textinfo\": \"none\"}, {\"labels\": [\"armed\", \"unarmed\"], \"values\": [801, 38], \"marker\": {\"colors\": [\"#2f4f4f\", \"#d3d3d3\"]}, \"type\": \"pie\", \"name\": \"Gen X\", \"domain\": {\"x\": [0.52, 1], \"y\": [0, 0.49]}, \"hoverinfo\": \"label+percent+name\", \"textinfo\": \"none\"}, {\"labels\": [\"armed\", \"unarmed\"], \"values\": [1679, 158], \"marker\": {\"colors\": [\"#2f4f4f\", \"#d3d3d3\"]}, \"type\": \"pie\", \"name\": \"Gen Y\", \"domain\": {\"x\": [0, 0.48], \"y\": [0.51, 1]}, \"hoverinfo\": \"label+percent+name\", \"textinfo\": \"none\"}, {\"labels\": [\"armed\", \"unarmed\"], \"values\": [111, 16], \"marker\": {\"colors\": [\"#2f4f4f\", \"#d3d3d3\"]}, \"type\": \"pie\", \"name\": \"Under 18\", \"domain\": {\"x\": [0.52, 1], \"y\": [0.51, 1]}, \"hoverinfo\": \"label+percent+name\", \"textinfo\": \"none\"}], {\"title\": \"Percentage of Armed and Unarmed People per Age Group\", \"annotations\": [{\"font\": {\"size\": 16}, \"showarrow\": false, \"text\": \"Gen Y\", \"x\": 0.07, \"y\": 1.0}, {\"font\": {\"size\": 16}, \"text\": \"Under 18\", \"showarrow\": false, \"x\": 0.6, \"y\": 1.0}, {\"font\": {\"size\": 16}, \"text\": \"Baby Boomer\", \"showarrow\": false, \"x\": -0.03, \"y\": 0.4}, {\"font\": {\"size\": 16}, \"text\": \"Gen X\", \"showarrow\": false, \"x\": 0.6, \"y\": 0.4}]}, {\"showLink\": true, \"linkText\": \"Export to plot.ly\"})});</script>"
      ],
      "text/vnd.plotly.v1+html": [
       "<div id=\"f062cc79-a8c6-4b80-a541-ddca088edfd6\" style=\"height: 525px; width: 100%;\" class=\"plotly-graph-div\"></div><script type=\"text/javascript\">require([\"plotly\"], function(Plotly) { window.PLOTLYENV=window.PLOTLYENV || {};window.PLOTLYENV.BASE_URL=\"https://plot.ly\";Plotly.newPlot(\"f062cc79-a8c6-4b80-a541-ddca088edfd6\", [{\"labels\": [\"armed\", \"unarmed\"], \"values\": [472, 18], \"type\": \"pie\", \"name\": \"Baby Boomer\", \"marker\": {\"colors\": [\"#2f4f4f\", \"#d3d3d3\"]}, \"domain\": {\"x\": [0, 0.48], \"y\": [0, 0.49]}, \"hoverinfo\": \"label+percent+name\", \"textinfo\": \"none\"}, {\"labels\": [\"armed\", \"unarmed\"], \"values\": [801, 38], \"marker\": {\"colors\": [\"#2f4f4f\", \"#d3d3d3\"]}, \"type\": \"pie\", \"name\": \"Gen X\", \"domain\": {\"x\": [0.52, 1], \"y\": [0, 0.49]}, \"hoverinfo\": \"label+percent+name\", \"textinfo\": \"none\"}, {\"labels\": [\"armed\", \"unarmed\"], \"values\": [1679, 158], \"marker\": {\"colors\": [\"#2f4f4f\", \"#d3d3d3\"]}, \"type\": \"pie\", \"name\": \"Gen Y\", \"domain\": {\"x\": [0, 0.48], \"y\": [0.51, 1]}, \"hoverinfo\": \"label+percent+name\", \"textinfo\": \"none\"}, {\"labels\": [\"armed\", \"unarmed\"], \"values\": [111, 16], \"marker\": {\"colors\": [\"#2f4f4f\", \"#d3d3d3\"]}, \"type\": \"pie\", \"name\": \"Under 18\", \"domain\": {\"x\": [0.52, 1], \"y\": [0.51, 1]}, \"hoverinfo\": \"label+percent+name\", \"textinfo\": \"none\"}], {\"title\": \"Percentage of Armed and Unarmed People per Age Group\", \"annotations\": [{\"font\": {\"size\": 16}, \"showarrow\": false, \"text\": \"Gen Y\", \"x\": 0.07, \"y\": 1.0}, {\"font\": {\"size\": 16}, \"text\": \"Under 18\", \"showarrow\": false, \"x\": 0.6, \"y\": 1.0}, {\"font\": {\"size\": 16}, \"text\": \"Baby Boomer\", \"showarrow\": false, \"x\": -0.03, \"y\": 0.4}, {\"font\": {\"size\": 16}, \"text\": \"Gen X\", \"showarrow\": false, \"x\": 0.6, \"y\": 0.4}]}, {\"showLink\": true, \"linkText\": \"Export to plot.ly\"})});</script>"
      ]
     },
     "metadata": {},
     "output_type": "display_data"
    }
   ],
   "source": [
    "fig = {\n",
    "    'data': [\n",
    "        {\n",
    "            'labels': labels,\n",
    "            'values': [472, 18],\n",
    "            'type': 'pie',\n",
    "            'name': 'Baby Boomer',\n",
    "            'marker': {'colors': ['#2f4f4f', '#d3d3d3']},\n",
    "            'domain': {'x': [0, .48], 'y': [0, .49]},\n",
    "            'hoverinfo':'label+percent+name',\n",
    "            'textinfo':'none'\n",
    "        },\n",
    "        {\n",
    "            'labels': labels,\n",
    "            'values': [801, 38],\n",
    "            'marker': {'colors': ['#2f4f4f', '#d3d3d3']},\n",
    "            'type': 'pie',\n",
    "            'name': 'Gen X',\n",
    "            'domain': {'x': [.52, 1], 'y': [0, .49]},\n",
    "            'hoverinfo':'label+percent+name',\n",
    "            'textinfo':'none'\n",
    "\n",
    "        },\n",
    "        {\n",
    "            'labels': labels,\n",
    "            'values': [1679, 158],\n",
    "            'marker': {'colors': ['#2f4f4f', '#d3d3d3']},\n",
    "            'type': 'pie',\n",
    "            'name': 'Gen Y',\n",
    "            'domain': {'x': [0, .48], 'y': [.51, 1]},\n",
    "            'hoverinfo':'label+percent+name',\n",
    "            'textinfo':'none'\n",
    "        },\n",
    "        {\n",
    "            'labels': labels,\n",
    "            'values': [111, 16],\n",
    "            'marker': {'colors': ['#2f4f4f', '#d3d3d3']},\n",
    "            'type': 'pie',\n",
    "            'name':'Under 18',\n",
    "            'domain': {'x': [.52, 1], 'y': [.51, 1]},\n",
    "            'hoverinfo':'label+percent+name',\n",
    "            'textinfo': 'none'\n",
    "        }\n",
    "    ],\n",
    "    'layout': {'title': 'Percentage of Armed and Unarmed People per Age Group',\n",
    "            \"annotations\": [{\n",
    "                \"font\": {\"size\": 16},\n",
    "                \"showarrow\": False,\n",
    "                \"text\": \"Gen Y\",\n",
    "                \"x\": 0.07,\n",
    "                \"y\": 1.0\n",
    "            },\n",
    "            {\n",
    "                \"font\": {\"size\": 16},\n",
    "                \"text\": \"Under 18\",\n",
    "                \"showarrow\": False,\n",
    "                \"x\": 0.6,\n",
    "                \"y\": 1.0\n",
    "            },\n",
    "            {\n",
    "                \"font\": {\"size\": 16},\n",
    "                \"text\": \"Baby Boomer\",\n",
    "                \"showarrow\": False,\n",
    "                \"x\": -0.03,\n",
    "                \"y\": 0.4\n",
    "            },\n",
    "            {\n",
    "                \"font\": {\"size\": 16},\n",
    "                \"text\": \"Gen X\",\n",
    "                \"showarrow\": False,\n",
    "                \"x\": 0.6,\n",
    "                \"y\": 0.4\n",
    "            }]\n",
    "    }\n",
    "}\n",
    "\n",
    "iplot(fig)"
   ]
  },
  {
   "cell_type": "markdown",
   "metadata": {},
   "source": [
    "# Creating a bar chart of ages"
   ]
  },
  {
   "cell_type": "code",
   "execution_count": 129,
   "metadata": {},
   "outputs": [],
   "source": [
    "under18 = mpv.loc[mpv[\"Victim's age\"] <= 18]\n",
    "geny = mpv.loc[(mpv[\"Victim's age\"] > 18) & (mpv[\"Victim's age\"] <= 38)]\n",
    "genx = mpv.loc[(mpv[\"Victim's age\"] > 38) & (mpv[\"Victim's age\"] <= 53)]\n",
    "babyboomers = mpv.loc[mpv[\"Victim's age\"] > 53]\n",
    "\n",
    "under18counts = under18.groupby(\"Victim's race\").count()[\"Victim's name\"]\n",
    "under18counts.drop(\"Unknown race\")\n",
    "otherunder18 = under18counts.loc[\"Asian\"]+under18counts.loc[\"Pacific Islander\"]+under18counts.loc[\"Native American\"]\n",
    "\n",
    "genycounts = geny.groupby(\"Victim's race\").count()[\"Victim's name\"]\n",
    "genycounts.drop(\"Unknown race\")\n",
    "othergeny = genycounts.loc[\"Asian\"]+genycounts.loc[\"Pacific Islander\"]+genycounts.loc[\"Native American\"]\n",
    "\n",
    "genxcounts = genx.groupby(\"Victim's race\").count()[\"Victim's name\"]\n",
    "genxcounts.drop(\"Unknown race\")\n",
    "othergenx = genxcounts.loc[\"Asian\"]+genxcounts.loc[\"Pacific Islander\"]+genxcounts.loc[\"Native American\"]\n",
    "\n",
    "boomercounts = babyboomers.groupby(\"Victim's race\").count()[\"Victim's name\"]\n",
    "boomercounts.drop(\"Unknown race\")\n",
    "otherboomers = boomercounts.loc[\"Asian\"]+boomercounts.loc[\"Pacific Islander\"]+boomercounts.loc[\"Native American\"]\n",
    "\n",
    "races = [\"Black\", \"White\", \"Hispanic\", \"Other\"]\n",
    "agesunder18 = [under18counts.loc[\"Black\"], under18counts.loc[\"White\"], under18counts.loc[\"Hispanic\"], otherunder18]\n",
    "genxers = [genxcounts.loc[\"Black\"], genxcounts.loc[\"White\"], genxcounts.loc[\"Hispanic\"], othergenx]\n",
    "genyers = [genycounts.loc[\"Black\"], genycounts.loc[\"White\"], genycounts.loc[\"Hispanic\"], othergeny]\n",
    "boomers = [boomercounts.loc[\"Black\"], boomercounts.loc[\"White\"], boomercounts.loc[\"Hispanic\"], otherboomers]"
   ]
  },
  {
   "cell_type": "code",
   "execution_count": 130,
   "metadata": {},
   "outputs": [
    {
     "data": {
      "application/vnd.plotly.v1+json": {
       "data": [
        {
         "name": "Under 18",
         "type": "bar",
         "x": [
          "Black",
          "White",
          "Hispanic",
          "Other"
         ],
         "y": [
          104,
          70,
          55,
          9
         ]
        },
        {
         "name": "Gen Y (18-38)",
         "type": "bar",
         "x": [
          "Black",
          "White",
          "Hispanic",
          "Other"
         ],
         "y": [
          1075,
          1317,
          691,
          143
         ]
        },
        {
         "name": "Gen X (39-53)",
         "type": "bar",
         "x": [
          "Black",
          "White",
          "Hispanic",
          "Other"
         ],
         "y": [
          302,
          851,
          221,
          42
         ]
        },
        {
         "name": "Baby Boomers (54 and up)",
         "type": "bar",
         "x": [
          "Black",
          "White",
          "Hispanic",
          "Other"
         ],
         "y": [
          83,
          460,
          55,
          16
         ]
        }
       ],
       "layout": {
        "barmode": "stack"
       }
      },
      "text/html": [
       "<div id=\"b80c4bb9-adca-4e09-aba7-37c0037c4692\" style=\"height: 525px; width: 100%;\" class=\"plotly-graph-div\"></div><script type=\"text/javascript\">require([\"plotly\"], function(Plotly) { window.PLOTLYENV=window.PLOTLYENV || {};window.PLOTLYENV.BASE_URL=\"https://plot.ly\";Plotly.newPlot(\"b80c4bb9-adca-4e09-aba7-37c0037c4692\", [{\"type\": \"bar\", \"x\": [\"Black\", \"White\", \"Hispanic\", \"Other\"], \"y\": [104, 70, 55, 9], \"name\": \"Under 18\"}, {\"type\": \"bar\", \"x\": [\"Black\", \"White\", \"Hispanic\", \"Other\"], \"y\": [1075, 1317, 691, 143], \"name\": \"Gen Y (18-38)\"}, {\"type\": \"bar\", \"x\": [\"Black\", \"White\", \"Hispanic\", \"Other\"], \"y\": [302, 851, 221, 42], \"name\": \"Gen X (39-53)\"}, {\"type\": \"bar\", \"x\": [\"Black\", \"White\", \"Hispanic\", \"Other\"], \"y\": [83, 460, 55, 16], \"name\": \"Baby Boomers (54 and up)\"}], {\"barmode\": \"stack\"}, {\"showLink\": true, \"linkText\": \"Export to plot.ly\"})});</script>"
      ],
      "text/vnd.plotly.v1+html": [
       "<div id=\"b80c4bb9-adca-4e09-aba7-37c0037c4692\" style=\"height: 525px; width: 100%;\" class=\"plotly-graph-div\"></div><script type=\"text/javascript\">require([\"plotly\"], function(Plotly) { window.PLOTLYENV=window.PLOTLYENV || {};window.PLOTLYENV.BASE_URL=\"https://plot.ly\";Plotly.newPlot(\"b80c4bb9-adca-4e09-aba7-37c0037c4692\", [{\"type\": \"bar\", \"x\": [\"Black\", \"White\", \"Hispanic\", \"Other\"], \"y\": [104, 70, 55, 9], \"name\": \"Under 18\"}, {\"type\": \"bar\", \"x\": [\"Black\", \"White\", \"Hispanic\", \"Other\"], \"y\": [1075, 1317, 691, 143], \"name\": \"Gen Y (18-38)\"}, {\"type\": \"bar\", \"x\": [\"Black\", \"White\", \"Hispanic\", \"Other\"], \"y\": [302, 851, 221, 42], \"name\": \"Gen X (39-53)\"}, {\"type\": \"bar\", \"x\": [\"Black\", \"White\", \"Hispanic\", \"Other\"], \"y\": [83, 460, 55, 16], \"name\": \"Baby Boomers (54 and up)\"}], {\"barmode\": \"stack\"}, {\"showLink\": true, \"linkText\": \"Export to plot.ly\"})});</script>"
      ]
     },
     "metadata": {},
     "output_type": "display_data"
    }
   ],
   "source": [
    "trace_under18 = Bar(\n",
    "    x=races,\n",
    "    y=agesunder18,\n",
    "    name='Under 18'\n",
    ")\n",
    "trace_geny = Bar(\n",
    "    x=races,\n",
    "    y=genyers,\n",
    "    name='Gen Y (18-38)'\n",
    ")\n",
    "trace_genx = Bar(\n",
    "    x=races,\n",
    "    y=genxers,\n",
    "    name='Gen X (39-53)'\n",
    ")\n",
    "trace_genboomer = Bar(\n",
    "    x=races,\n",
    "    y=boomers,\n",
    "    name='Baby Boomers (54 and up)'\n",
    ")\n",
    "\n",
    "data = [trace_under18, trace_geny, trace_genx, trace_genboomer]\n",
    "layout = Layout(\n",
    "    barmode='stack'\n",
    ")\n",
    "\n",
    "fig = Figure(data=data, layout=layout)\n",
    "iplot(fig)"
   ]
  },
  {
   "cell_type": "markdown",
   "metadata": {},
   "source": [
    "# Creating a Waffle Chart of ages"
   ]
  },
  {
   "cell_type": "code",
   "execution_count": 131,
   "metadata": {},
   "outputs": [],
   "source": [
    "from pywaffle import Waffle"
   ]
  },
  {
   "cell_type": "code",
   "execution_count": 132,
   "metadata": {},
   "outputs": [],
   "source": [
    "allages = mpv.groupby(\"Victim's race\").count()[\"Victim's name\"]\n",
    "allages.drop(\"Unknown race\")\n",
    "otherall = allages.loc[\"Asian\"]+allages.loc[\"Pacific Islander\"]+allages.loc[\"Native American\"]\n",
    "allagesy = [allages.loc[\"Black\"], allages.loc[\"White\"], allages.loc[\"Hispanic\"], otherall]"
   ]
  },
  {
   "cell_type": "code",
   "execution_count": 133,
   "metadata": {},
   "outputs": [],
   "source": [
    "data = pd.DataFrame(\n",
    "    {\n",
    "        'labels': ['Under 18', 'Gen Y', 'Gen X', 'Baby Boomers'],\n",
    "        'Black': [int(agesunder18[0]/allagesy[0]*100), int(genyers[0]/allagesy[0]*100), int(genxers[0]/allagesy[0]*100), int(boomers[0]/allagesy[0]*100)],\n",
    "        'White': [int(agesunder18[1]/allagesy[1]*100), int(genyers[1]/allagesy[1]*100), int(genxers[1]/allagesy[1]*100), int(boomers[1]/allagesy[0]*100)],\n",
    "        'Hispanic': [int(agesunder18[2]/allagesy[2]*100), int(genyers[2]/allagesy[2]*100), int(genxers[2]/allagesy[2]*100), int(boomers[2]/allagesy[2]*100)],\n",
    "        'Other': [int(agesunder18[3]/allagesy[3]*100), int(genyers[3]/allagesy[3]*100), int(genxers[3]/allagesy[3]*100), int(boomers[3]/allagesy[3]*100)]\n",
    "    },\n",
    ").set_index('labels')"
   ]
  },
  {
   "cell_type": "code",
   "execution_count": 134,
   "metadata": {},
   "outputs": [
    {
     "name": "stderr",
     "output_type": "stream",
     "text": [
      "/Users/AG/anaconda3/lib/python3.6/site-packages/matplotlib/figure.py:2267: UserWarning:\n",
      "\n",
      "This figure includes Axes that are not compatible with tight_layout, so results might be incorrect.\n",
      "\n"
     ]
    },
    {
     "data": {
      "image/png": "[encoded data removed]",
      "text/plain": [
       "<Waffle size 648x360 with 1 Axes>"
      ]
     },
     "metadata": {},
     "output_type": "display_data"
    },
    {
     "data": {
      "image/png": "[encoded data removed]",
      "text/plain": [
       "<Waffle size 648x360 with 1 Axes>"
      ]
     },
     "metadata": {},
     "output_type": "display_data"
    },
    {
     "data": {
      "image/png": "[encoded data removed]",
      "text/plain": [
       "<Waffle size 648x360 with 1 Axes>"
      ]
     },
     "metadata": {},
     "output_type": "display_data"
    },
    {
     "data": {
      "image/png": "[encoded data removed]",
      "text/plain": [
       "<Waffle size 648x360 with 1 Axes>"
      ]
     },
     "metadata": {},
     "output_type": "display_data"
    }
   ],
   "source": [
    "for race in races:\n",
    "    fig = plt.figure(\n",
    "        FigureClass=Waffle,\n",
    "        rows=5,\n",
    "        colors=(\"#6980bc\", \"#bba394\", \"#eeaaee\", \"#d03ba2\"),\n",
    "        figsize=(9,5),\n",
    "        values={\"Under 18\": int(data[race].loc[\"Under 18\"]), \"Gen Y (18-38)\": int(data[race].loc[\"Gen Y\"]), \"Gen X (39-53)\": int(data[race].loc[\"Gen X\"]), \"Baby Boomers (54 and up)\": int(data[race].loc[\"Baby Boomers\"])},\n",
    "        legend={'loc': 'upper left', 'bbox_to_anchor': (1, 1)},\n",
    "        title={'label': 'Percentages of {0} People Killed'.format(race), 'loc': 'center', 'size':20},\n",
    "    )"
   ]
  },
  {
   "cell_type": "markdown",
   "metadata": {},
   "source": [
    "# Color Map of Killings by State"
   ]
  },
  {
   "cell_type": "code",
   "execution_count": 135,
   "metadata": {},
   "outputs": [],
   "source": [
    "mpv[\"year\"] = np.array([ str(\"20\"+date.split(\"/\")[2]) for date in mpv[\"Date of Incident (month/day/year)\"]])"
   ]
  },
  {
   "cell_type": "code",
   "execution_count": 136,
   "metadata": {},
   "outputs": [],
   "source": [
    "mpvpast = mpv.loc[mpv[\"year\"]!=\"2018\"]\n",
    "mpvstate = mpvpast.groupby([\"year\",\"State\"]).count()[\"Victim's name\"]\n",
    "\n",
    "# make lists of data by year\n",
    "mpv2013 = mpvstate[mpvstate.index.get_level_values(\"year\")==\"2013\"]\n",
    "mpv2014 = mpvstate[mpvstate.index.get_level_values(\"year\")==\"2014\"]\n",
    "mpv2015 = mpvstate[mpvstate.index.get_level_values(\"year\")==\"2015\"]\n",
    "mpv2016 = mpvstate[mpvstate.index.get_level_values(\"year\")==\"2016\"]\n",
    "mpv2017 = mpvstate[mpvstate.index.get_level_values(\"year\")==\"2017\"]\n",
    "yeardata = [list(mpv2013), list(mpv2014), list(mpv2015), list(mpv2016), list(mpv2017)]\n",
    "#add in 0 for Rhode Island in 2015\n",
    "#yeardata[2].insert(41, 0)\n",
    "\n",
    "# make list of states for each year\n",
    "#statecode=list(mpvstate[mpvstate.index.get_level_values(\"year\")==\"2017\"].index.get_level_values(\"State\"))\n",
    "states2013 = mpv2013.index.get_level_values(\"State\")\n",
    "states2014 = mpv2014.index.get_level_values(\"State\")\n",
    "states2015 = mpv2015.index.get_level_values(\"State\")\n",
    "states2016 = mpv2016.index.get_level_values(\"State\")\n",
    "states2017 = mpv2017.index.get_level_values(\"State\")\n",
    "statecode = [list(states2013), list(states2014), list(states2015), list(states2016), list(states2017)]"
   ]
  },
  {
   "cell_type": "code",
   "execution_count": 137,
   "metadata": {},
   "outputs": [],
   "source": [
    "scl = [[0.0, '#ffe5e5'],[0.1, '#ffb2b2'], [0.2, '#ff7f7f'],[0.3, '#ff4c4c'],\n",
    "       [0.4, '#ff0000'], [0.5, '#b20000'], [0.7, '#7f0000'], [1.0, '#4c0000']\n",
    "      ]\n",
    "\n",
    "data = [{\n",
    "        'type':'choropleth',\n",
    "        'colorscale': scl,\n",
    "        'autocolorscale': False,\n",
    "        'locations': statecode[0],\n",
    "        'z': yeardata[0],\n",
    "        'locationmode': 'USA-states',\n",
    "        'marker': dict(\n",
    "            line = dict (\n",
    "                color = 'rgb(255,255,255)',\n",
    "                width = 2\n",
    "            )\n",
    "        ),\n",
    "        'colorbar': {\n",
    "            'title': \"Deaths\"\n",
    "        }\n",
    "}]\n",
    "\n",
    "layout = dict(\n",
    "        title = 'US Police Killings',\n",
    "        geo = dict(\n",
    "            scope='usa',\n",
    "            projection=dict( type='albers usa' ),\n",
    "            showlakes = True,\n",
    "            lakecolor = 'rgb(255, 255, 255)'\n",
    "        )\n",
    ")\n",
    "\n",
    "layout['updatemenus'] = [\n",
    "    {\n",
    "        'buttons': [\n",
    "            {\n",
    "                'args': [None, {'frame': {'duration': 1500, 'redraw': False},\n",
    "                         'fromcurrent': True, 'transition': {'duration': 300, 'easing': 'quadratic-in-out'}}],\n",
    "                'label': 'Play',\n",
    "                'method': 'animate'\n",
    "            },\n",
    "            {\n",
    "                'args': [[None], {'frame': {'duration': 0, 'redraw': False}, 'mode': 'immediate',\n",
    "                'transition': {'duration': 0}}],\n",
    "                'label': 'Pause',\n",
    "                'method': 'animate'\n",
    "            }\n",
    "        ],\n",
    "        'direction': 'left',\n",
    "        'pad': {'r': 10, 't': 87},\n",
    "        'showactive': False,\n",
    "        'type': 'buttons',\n",
    "        'x': 0.1,\n",
    "        'xanchor': 'right',\n",
    "        'y': 0,\n",
    "        'yanchor': 'top'\n",
    "    }\n",
    "]\n",
    "layout['sliders'] = [{\n",
    "    'active': 0,\n",
    "    'yanchor': 'top',\n",
    "    'xanchor': 'left',\n",
    "    'currentvalue': {\n",
    "        'font': {'size': 20},\n",
    "        'prefix': 'Year: ',\n",
    "        'visible': True,\n",
    "        'xanchor': 'right'\n",
    "    },\n",
    "    'transition': {'duration': 300, 'easing': 'cubic-in-out'},\n",
    "    'pad': {'b': 10, 't': 50},\n",
    "    'len': 0.9,\n",
    "    'x': 0.1,\n",
    "    'y': 0,\n",
    "    'steps': []\n",
    "}]\n",
    "years=[\"2013\", \"2014\", \"2015\", \"2016\", \"2017\"]\n",
    "for year in years:\n",
    "    # creating and appending each slider step\n",
    "    slider_step = {'args': [\n",
    "        [year],\n",
    "        {'frame': {'duration': 1500, 'redraw': False},\n",
    "         'mode': 'immediate',\n",
    "       'transition': {'duration': 300}}\n",
    "     ],\n",
    "     'label': year,\n",
    "     'method': 'animate'}\n",
    "    layout['sliders'][0]['steps'].append(slider_step)\n",
    "\n",
    "frames = []\n",
    "for i in range(len(years)):\n",
    "    # creating and appending data to frame\n",
    "    frame = {\n",
    "        'data': [],\n",
    "        'name': years[i]\n",
    "    }\n",
    "    data_dict = {\n",
    "        'type':'choropleth',\n",
    "        'colorscale': scl,\n",
    "        'autocolorscale': False,\n",
    "        'locations': statecode[i],\n",
    "        'z': yeardata[i],\n",
    "        'locationmode': 'USA-states',\n",
    "        'marker': dict(\n",
    "            line = dict (\n",
    "                color = 'rgb(255,255,255)',\n",
    "                width = 2\n",
    "            ) ),\n",
    "        'colorbar': dict(\n",
    "            title = \"Deaths\") \n",
    "    }\n",
    "    frame['data'].append(data_dict)\n",
    "    frames.append(frame)"
   ]
  },
  {
   "cell_type": "code",
   "execution_count": 138,
   "metadata": {},
   "outputs": [
    {
     "data": {
      "application/vnd.plotly.v1+json": {
       "data": [
        {
         "autocolorscale": false,
         "colorbar": {
          "title": "Deaths"
         },
         "colorscale": [
          [
           0,
           "#ffe5e5"
          ],
          [
           0.1,
           "#ffb2b2"
          ],
          [
           0.2,
           "#ff7f7f"
          ],
          [
           0.3,
           "#ff4c4c"
          ],
          [
           0.4,
           "#ff0000"
          ],
          [
           0.5,
           "#b20000"
          ],
          [
           0.7,
           "#7f0000"
          ],
          [
           1,
           "#4c0000"
          ]
         ],
         "locationmode": "USA-states",
         "locations": [
          "AK",
          "AL",
          "AR",
          "AZ",
          "CA",
          "CO",
          "CT",
          "DC",
          "DE",
          "FL",
          "GA",
          "HI",
          "IA",
          "ID",
          "IL",
          "IN",
          "KS",
          "KY",
          "LA",
          "MA",
          "MD",
          "ME",
          "MI",
          "MN",
          "MO",
          "MS",
          "MT",
          "NC",
          "ND",
          "NE",
          "NH",
          "NJ",
          "NM",
          "NV",
          "NY",
          "OH",
          "OK",
          "OR",
          "PA",
          "RI",
          "SC",
          "SD",
          "TN",
          "TX",
          "UT",
          "VA",
          "VT",
          "WA",
          "WI",
          "WV",
          "WY"
         ],
         "marker": {
          "line": {
           "color": "rgb(255,255,255)",
           "width": 2
          }
         },
         "type": "choropleth",
         "z": [
          4,
          23,
          14,
          49,
          189,
          20,
          11,
          5,
          2,
          98,
          30,
          4,
          5,
          4,
          27,
          22,
          6,
          7,
          15,
          15,
          25,
          5,
          13,
          13,
          27,
          6,
          7,
          33,
          2,
          5,
          3,
          15,
          15,
          13,
          30,
          28,
          21,
          13,
          39,
          1,
          13,
          2,
          21,
          91,
          7,
          17,
          1,
          30,
          15,
          10,
          1
         ]
        }
       ],
       "frames": [
        {
         "data": [
          {
           "autocolorscale": false,
           "colorbar": {
            "title": "Deaths"
           },
           "colorscale": [
            [
             0,
             "#ffe5e5"
            ],
            [
             0.1,
             "#ffb2b2"
            ],
            [
             0.2,
             "#ff7f7f"
            ],
            [
             0.3,
             "#ff4c4c"
            ],
            [
             0.4,
             "#ff0000"
            ],
            [
             0.5,
             "#b20000"
            ],
            [
             0.7,
             "#7f0000"
            ],
            [
             1,
             "#4c0000"
            ]
           ],
           "locationmode": "USA-states",
           "locations": [
            "AK",
            "AL",
            "AR",
            "AZ",
            "CA",
            "CO",
            "CT",
            "DC",
            "DE",
            "FL",
            "GA",
            "HI",
            "IA",
            "ID",
            "IL",
            "IN",
            "KS",
            "KY",
            "LA",
            "MA",
            "MD",
            "ME",
            "MI",
            "MN",
            "MO",
            "MS",
            "MT",
            "NC",
            "ND",
            "NE",
            "NH",
            "NJ",
            "NM",
            "NV",
            "NY",
            "OH",
            "OK",
            "OR",
            "PA",
            "RI",
            "SC",
            "SD",
            "TN",
            "TX",
            "UT",
            "VA",
            "VT",
            "WA",
            "WI",
            "WV",
            "WY"
           ],
           "marker": {
            "line": {
             "color": "rgb(255,255,255)",
             "width": 2
            }
           },
           "type": "choropleth",
           "z": [
            4,
            23,
            14,
            49,
            189,
            20,
            11,
            5,
            2,
            98,
            30,
            4,
            5,
            4,
            27,
            22,
            6,
            7,
            15,
            15,
            25,
            5,
            13,
            13,
            27,
            6,
            7,
            33,
            2,
            5,
            3,
            15,
            15,
            13,
            30,
            28,
            21,
            13,
            39,
            1,
            13,
            2,
            21,
            91,
            7,
            17,
            1,
            30,
            15,
            10,
            1
           ]
          }
         ],
         "name": "2013"
        },
        {
         "data": [
          {
           "autocolorscale": false,
           "colorbar": {
            "title": "Deaths"
           },
           "colorscale": [
            [
             0,
             "#ffe5e5"
            ],
            [
             0.1,
             "#ffb2b2"
            ],
            [
             0.2,
             "#ff7f7f"
            ],
            [
             0.3,
             "#ff4c4c"
            ],
            [
             0.4,
             "#ff0000"
            ],
            [
             0.5,
             "#b20000"
            ],
            [
             0.7,
             "#7f0000"
            ],
            [
             1,
             "#4c0000"
            ]
           ],
           "locationmode": "USA-states",
           "locations": [
            "AK",
            "AL",
            "AR",
            "AZ",
            "CA",
            "CO",
            "CT",
            "DC",
            "DE",
            "FL",
            "GA",
            "HI",
            "IA",
            "ID",
            "IL",
            "IN",
            "KS",
            "KY",
            "LA",
            "MA",
            "MD",
            "ME",
            "MI",
            "MN",
            "MO",
            "MS",
            "MT",
            "NC",
            "ND",
            "NE",
            "NH",
            "NJ",
            "NM",
            "NV",
            "NY",
            "OH",
            "OK",
            "OR",
            "PA",
            "RI",
            "SC",
            "SD",
            "TN",
            "TX",
            "UT",
            "VA",
            "VT",
            "WA",
            "WI",
            "WV",
            "WY"
           ],
           "marker": {
            "line": {
             "color": "rgb(255,255,255)",
             "width": 2
            }
           },
           "type": "choropleth",
           "z": [
            2,
            17,
            7,
            47,
            170,
            22,
            3,
            5,
            3,
            98,
            30,
            4,
            10,
            4,
            35,
            11,
            15,
            18,
            25,
            6,
            24,
            6,
            21,
            12,
            28,
            18,
            6,
            35,
            1,
            6,
            1,
            18,
            20,
            22,
            27,
            31,
            29,
            17,
            18,
            1,
            22,
            3,
            25,
            103,
            19,
            11,
            1,
            34,
            10,
            8,
            3
           ]
          }
         ],
         "name": "2014"
        },
        {
         "data": [
          {
           "autocolorscale": false,
           "colorbar": {
            "title": "Deaths"
           },
           "colorscale": [
            [
             0,
             "#ffe5e5"
            ],
            [
             0.1,
             "#ffb2b2"
            ],
            [
             0.2,
             "#ff7f7f"
            ],
            [
             0.3,
             "#ff4c4c"
            ],
            [
             0.4,
             "#ff0000"
            ],
            [
             0.5,
             "#b20000"
            ],
            [
             0.7,
             "#7f0000"
            ],
            [
             1,
             "#4c0000"
            ]
           ],
           "locationmode": "USA-states",
           "locations": [
            "AK",
            "AL",
            "AR",
            "AZ",
            "CA",
            "CO",
            "CT",
            "DC",
            "DE",
            "FL",
            "GA",
            "HI",
            "IA",
            "ID",
            "IL",
            "IN",
            "KS",
            "KY",
            "LA",
            "MA",
            "MD",
            "ME",
            "MI",
            "MN",
            "MO",
            "MS",
            "MT",
            "NC",
            "ND",
            "NE",
            "NH",
            "NJ",
            "NM",
            "NV",
            "NY",
            "OH",
            "OK",
            "OR",
            "PA",
            "SC",
            "SD",
            "TN",
            "TX",
            "UT",
            "VA",
            "VT",
            "WA",
            "WI",
            "WV",
            "WY"
           ],
           "marker": {
            "line": {
             "color": "rgb(255,255,255)",
             "width": 2
            }
           },
           "type": "choropleth",
           "z": [
            5,
            21,
            6,
            43,
            212,
            29,
            4,
            6,
            4,
            82,
            40,
            4,
            5,
            8,
            23,
            22,
            13,
            18,
            30,
            12,
            20,
            2,
            19,
            14,
            24,
            14,
            4,
            28,
            1,
            10,
            4,
            24,
            20,
            20,
            28,
            39,
            39,
            18,
            24,
            21,
            3,
            24,
            112,
            11,
            22,
            1,
            20,
            11,
            11,
            6
           ]
          }
         ],
         "name": "2015"
        },
        {
         "data": [
          {
           "autocolorscale": false,
           "colorbar": {
            "title": "Deaths"
           },
           "colorscale": [
            [
             0,
             "#ffe5e5"
            ],
            [
             0.1,
             "#ffb2b2"
            ],
            [
             0.2,
             "#ff7f7f"
            ],
            [
             0.3,
             "#ff4c4c"
            ],
            [
             0.4,
             "#ff0000"
            ],
            [
             0.5,
             "#b20000"
            ],
            [
             0.7,
             "#7f0000"
            ],
            [
             1,
             "#4c0000"
            ]
           ],
           "locationmode": "USA-states",
           "locations": [
            "AK",
            "AL",
            "AR",
            "AZ",
            "CA",
            "CO",
            "CT",
            "DC",
            "DE",
            "FL",
            "GA",
            "HI",
            "IA",
            "ID",
            "IL",
            "IN",
            "KS",
            "KY",
            "LA",
            "MA",
            "MD",
            "ME",
            "MI",
            "MN",
            "MO",
            "MS",
            "MT",
            "NC",
            "ND",
            "NE",
            "NH",
            "NJ",
            "NM",
            "NV",
            "NY",
            "OH",
            "OK",
            "OR",
            "PA",
            "RI",
            "SC",
            "SD",
            "TN",
            "TX",
            "UT",
            "VA",
            "VT",
            "WA",
            "WI",
            "WV",
            "WY"
           ],
           "marker": {
            "line": {
             "color": "rgb(255,255,255)",
             "width": 2
            }
           },
           "type": "choropleth",
           "z": [
            7,
            27,
            23,
            49,
            162,
            32,
            6,
            5,
            1,
            77,
            28,
            7,
            5,
            6,
            33,
            19,
            11,
            23,
            25,
            14,
            19,
            2,
            17,
            14,
            23,
            10,
            5,
            39,
            1,
            8,
            2,
            17,
            22,
            15,
            24,
            28,
            33,
            17,
            25,
            2,
            18,
            6,
            26,
            94,
            9,
            20,
            2,
            27,
            17,
            12,
            2
           ]
          }
         ],
         "name": "2016"
        },
        {
         "data": [
          {
           "autocolorscale": false,
           "colorbar": {
            "title": "Deaths"
           },
           "colorscale": [
            [
             0,
             "#ffe5e5"
            ],
            [
             0.1,
             "#ffb2b2"
            ],
            [
             0.2,
             "#ff7f7f"
            ],
            [
             0.3,
             "#ff4c4c"
            ],
            [
             0.4,
             "#ff0000"
            ],
            [
             0.5,
             "#b20000"
            ],
            [
             0.7,
             "#7f0000"
            ],
            [
             1,
             "#4c0000"
            ]
           ],
           "locationmode": "USA-states",
           "locations": [
            "AK",
            "AL",
            "AR",
            "AZ",
            "CA",
            "CO",
            "CT",
            "DC",
            "DE",
            "FL",
            "GA",
            "HI",
            "IA",
            "ID",
            "IL",
            "IN",
            "KS",
            "KY",
            "LA",
            "MA",
            "MD",
            "ME",
            "MI",
            "MN",
            "MO",
            "MS",
            "MT",
            "NC",
            "ND",
            "NE",
            "NH",
            "NJ",
            "NM",
            "NV",
            "NY",
            "OH",
            "OK",
            "OR",
            "PA",
            "RI",
            "SC",
            "SD",
            "TN",
            "TX",
            "UT",
            "VA",
            "VT",
            "WA",
            "WI",
            "WV",
            "WY"
           ],
           "marker": {
            "line": {
             "color": "rgb(255,255,255)",
             "width": 2
            }
           },
           "type": "choropleth",
           "z": [
            7,
            25,
            16,
            47,
            174,
            33,
            6,
            2,
            7,
            69,
            39,
            5,
            6,
            6,
            28,
            19,
            16,
            18,
            22,
            6,
            14,
            10,
            14,
            10,
            35,
            17,
            6,
            26,
            3,
            1,
            3,
            14,
            24,
            17,
            18,
            33,
            30,
            12,
            27,
            1,
            15,
            3,
            28,
            79,
            6,
            29,
            1,
            42,
            26,
            12,
            1
           ]
          }
         ],
         "name": "2017"
        }
       ],
       "layout": {
        "geo": {
         "lakecolor": "rgb(255, 255, 255)",
         "projection": {
          "type": "albers usa"
         },
         "scope": "usa",
         "showlakes": true
        },
        "sliders": [
         {
          "active": 0,
          "currentvalue": {
           "font": {
            "size": 20
           },
           "prefix": "Year: ",
           "visible": true,
           "xanchor": "right"
          },
          "len": 0.9,
          "pad": {
           "b": 10,
           "t": 50
          },
          "steps": [
           {
            "args": [
             [
              "2013"
             ],
             {
              "frame": {
               "duration": 1500,
               "redraw": false
              },
              "mode": "immediate",
              "transition": {
               "duration": 300
              }
             }
            ],
            "label": "2013",
            "method": "animate"
           },
           {
            "args": [
             [
              "2014"
             ],
             {
              "frame": {
               "duration": 1500,
               "redraw": false
              },
              "mode": "immediate",
              "transition": {
               "duration": 300
              }
             }
            ],
            "label": "2014",
            "method": "animate"
           },
           {
            "args": [
             [
              "2015"
             ],
             {
              "frame": {
               "duration": 1500,
               "redraw": false
              },
              "mode": "immediate",
              "transition": {
               "duration": 300
              }
             }
            ],
            "label": "2015",
            "method": "animate"
           },
           {
            "args": [
             [
              "2016"
             ],
             {
              "frame": {
               "duration": 1500,
               "redraw": false
              },
              "mode": "immediate",
              "transition": {
               "duration": 300
              }
             }
            ],
            "label": "2016",
            "method": "animate"
           },
           {
            "args": [
             [
              "2017"
             ],
             {
              "frame": {
               "duration": 1500,
               "redraw": false
              },
              "mode": "immediate",
              "transition": {
               "duration": 300
              }
             }
            ],
            "label": "2017",
            "method": "animate"
           }
          ],
          "transition": {
           "duration": 300,
           "easing": "cubic-in-out"
          },
          "x": 0.1,
          "xanchor": "left",
          "y": 0,
          "yanchor": "top"
         }
        ],
        "title": "US Police Killings",
        "updatemenus": [
         {
          "buttons": [
           {
            "args": [
             null,
             {
              "frame": {
               "duration": 1500,
               "redraw": false
              },
              "fromcurrent": true,
              "transition": {
               "duration": 300,
               "easing": "quadratic-in-out"
              }
             }
            ],
            "label": "Play",
            "method": "animate"
           },
           {
            "args": [
             [
              null
             ],
             {
              "frame": {
               "duration": 0,
               "redraw": false
              },
              "mode": "immediate",
              "transition": {
               "duration": 0
              }
             }
            ],
            "label": "Pause",
            "method": "animate"
           }
          ],
          "direction": "left",
          "pad": {
           "r": 10,
           "t": 87
          },
          "showactive": false,
          "type": "buttons",
          "x": 0.1,
          "xanchor": "right",
          "y": 0,
          "yanchor": "top"
         }
        ]
       }
      },
      "text/html": [
       "<div id=\"81e47700-b783-46d1-9b83-92993194d3c2\" style=\"height: 525px; width: 100%;\" class=\"plotly-graph-div\"></div><script type=\"text/javascript\">require([\"plotly\"], function(Plotly) { window.PLOTLYENV=window.PLOTLYENV || {};window.PLOTLYENV.BASE_URL=\"https://plot.ly\";\n",
       "        Plotly.plot(\n",
       "            '81e47700-b783-46d1-9b83-92993194d3c2',\n",
       "            [{\"type\": \"choropleth\", \"colorscale\": [[0.0, \"#ffe5e5\"], [0.1, \"#ffb2b2\"], [0.2, \"#ff7f7f\"], [0.3, \"#ff4c4c\"], [0.4, \"#ff0000\"], [0.5, \"#b20000\"], [0.7, \"#7f0000\"], [1.0, \"#4c0000\"]], \"autocolorscale\": false, \"locations\": [\"AK\", \"AL\", \"AR\", \"AZ\", \"CA\", \"CO\", \"CT\", \"DC\", \"DE\", \"FL\", \"GA\", \"HI\", \"IA\", \"ID\", \"IL\", \"IN\", \"KS\", \"KY\", \"LA\", \"MA\", \"MD\", \"ME\", \"MI\", \"MN\", \"MO\", \"MS\", \"MT\", \"NC\", \"ND\", \"NE\", \"NH\", \"NJ\", \"NM\", \"NV\", \"NY\", \"OH\", \"OK\", \"OR\", \"PA\", \"RI\", \"SC\", \"SD\", \"TN\", \"TX\", \"UT\", \"VA\", \"VT\", \"WA\", \"WI\", \"WV\", \"WY\"], \"z\": [4, 23, 14, 49, 189, 20, 11, 5, 2, 98, 30, 4, 5, 4, 27, 22, 6, 7, 15, 15, 25, 5, 13, 13, 27, 6, 7, 33, 2, 5, 3, 15, 15, 13, 30, 28, 21, 13, 39, 1, 13, 2, 21, 91, 7, 17, 1, 30, 15, 10, 1], \"locationmode\": \"USA-states\", \"marker\": {\"line\": {\"color\": \"rgb(255,255,255)\", \"width\": 2}}, \"colorbar\": {\"title\": \"Deaths\"}}],\n",
       "            {\"title\": \"US Police Killings\", \"geo\": {\"scope\": \"usa\", \"projection\": {\"type\": \"albers usa\"}, \"showlakes\": true, \"lakecolor\": \"rgb(255, 255, 255)\"}, \"updatemenus\": [{\"buttons\": [{\"args\": [null, {\"frame\": {\"duration\": 1500, \"redraw\": false}, \"fromcurrent\": true, \"transition\": {\"duration\": 300, \"easing\": \"quadratic-in-out\"}}], \"label\": \"Play\", \"method\": \"animate\"}, {\"args\": [[null], {\"frame\": {\"duration\": 0, \"redraw\": false}, \"mode\": \"immediate\", \"transition\": {\"duration\": 0}}], \"label\": \"Pause\", \"method\": \"animate\"}], \"direction\": \"left\", \"pad\": {\"r\": 10, \"t\": 87}, \"showactive\": false, \"type\": \"buttons\", \"x\": 0.1, \"xanchor\": \"right\", \"y\": 0, \"yanchor\": \"top\"}], \"sliders\": [{\"active\": 0, \"yanchor\": \"top\", \"xanchor\": \"left\", \"currentvalue\": {\"font\": {\"size\": 20}, \"prefix\": \"Year: \", \"visible\": true, \"xanchor\": \"right\"}, \"transition\": {\"duration\": 300, \"easing\": \"cubic-in-out\"}, \"pad\": {\"b\": 10, \"t\": 50}, \"len\": 0.9, \"x\": 0.1, \"y\": 0, \"steps\": [{\"args\": [[\"2013\"], {\"frame\": {\"duration\": 1500, \"redraw\": false}, \"mode\": \"immediate\", \"transition\": {\"duration\": 300}}], \"label\": \"2013\", \"method\": \"animate\"}, {\"args\": [[\"2014\"], {\"frame\": {\"duration\": 1500, \"redraw\": false}, \"mode\": \"immediate\", \"transition\": {\"duration\": 300}}], \"label\": \"2014\", \"method\": \"animate\"}, {\"args\": [[\"2015\"], {\"frame\": {\"duration\": 1500, \"redraw\": false}, \"mode\": \"immediate\", \"transition\": {\"duration\": 300}}], \"label\": \"2015\", \"method\": \"animate\"}, {\"args\": [[\"2016\"], {\"frame\": {\"duration\": 1500, \"redraw\": false}, \"mode\": \"immediate\", \"transition\": {\"duration\": 300}}], \"label\": \"2016\", \"method\": \"animate\"}, {\"args\": [[\"2017\"], {\"frame\": {\"duration\": 1500, \"redraw\": false}, \"mode\": \"immediate\", \"transition\": {\"duration\": 300}}], \"label\": \"2017\", \"method\": \"animate\"}]}]},\n",
       "            {\"showLink\": true, \"linkText\": \"Export to plot.ly\"}\n",
       "        ).then(function () {return Plotly.addFrames('81e47700-b783-46d1-9b83-92993194d3c2',[{\"data\": [{\"type\": \"choropleth\", \"colorscale\": [[0.0, \"#ffe5e5\"], [0.1, \"#ffb2b2\"], [0.2, \"#ff7f7f\"], [0.3, \"#ff4c4c\"], [0.4, \"#ff0000\"], [0.5, \"#b20000\"], [0.7, \"#7f0000\"], [1.0, \"#4c0000\"]], \"autocolorscale\": false, \"locations\": [\"AK\", \"AL\", \"AR\", \"AZ\", \"CA\", \"CO\", \"CT\", \"DC\", \"DE\", \"FL\", \"GA\", \"HI\", \"IA\", \"ID\", \"IL\", \"IN\", \"KS\", \"KY\", \"LA\", \"MA\", \"MD\", \"ME\", \"MI\", \"MN\", \"MO\", \"MS\", \"MT\", \"NC\", \"ND\", \"NE\", \"NH\", \"NJ\", \"NM\", \"NV\", \"NY\", \"OH\", \"OK\", \"OR\", \"PA\", \"RI\", \"SC\", \"SD\", \"TN\", \"TX\", \"UT\", \"VA\", \"VT\", \"WA\", \"WI\", \"WV\", \"WY\"], \"z\": [4, 23, 14, 49, 189, 20, 11, 5, 2, 98, 30, 4, 5, 4, 27, 22, 6, 7, 15, 15, 25, 5, 13, 13, 27, 6, 7, 33, 2, 5, 3, 15, 15, 13, 30, 28, 21, 13, 39, 1, 13, 2, 21, 91, 7, 17, 1, 30, 15, 10, 1], \"locationmode\": \"USA-states\", \"marker\": {\"line\": {\"color\": \"rgb(255,255,255)\", \"width\": 2}}, \"colorbar\": {\"title\": \"Deaths\"}}], \"name\": \"2013\"}, {\"data\": [{\"type\": \"choropleth\", \"colorscale\": [[0.0, \"#ffe5e5\"], [0.1, \"#ffb2b2\"], [0.2, \"#ff7f7f\"], [0.3, \"#ff4c4c\"], [0.4, \"#ff0000\"], [0.5, \"#b20000\"], [0.7, \"#7f0000\"], [1.0, \"#4c0000\"]], \"autocolorscale\": false, \"locations\": [\"AK\", \"AL\", \"AR\", \"AZ\", \"CA\", \"CO\", \"CT\", \"DC\", \"DE\", \"FL\", \"GA\", \"HI\", \"IA\", \"ID\", \"IL\", \"IN\", \"KS\", \"KY\", \"LA\", \"MA\", \"MD\", \"ME\", \"MI\", \"MN\", \"MO\", \"MS\", \"MT\", \"NC\", \"ND\", \"NE\", \"NH\", \"NJ\", \"NM\", \"NV\", \"NY\", \"OH\", \"OK\", \"OR\", \"PA\", \"RI\", \"SC\", \"SD\", \"TN\", \"TX\", \"UT\", \"VA\", \"VT\", \"WA\", \"WI\", \"WV\", \"WY\"], \"z\": [2, 17, 7, 47, 170, 22, 3, 5, 3, 98, 30, 4, 10, 4, 35, 11, 15, 18, 25, 6, 24, 6, 21, 12, 28, 18, 6, 35, 1, 6, 1, 18, 20, 22, 27, 31, 29, 17, 18, 1, 22, 3, 25, 103, 19, 11, 1, 34, 10, 8, 3], \"locationmode\": \"USA-states\", \"marker\": {\"line\": {\"color\": \"rgb(255,255,255)\", \"width\": 2}}, \"colorbar\": {\"title\": \"Deaths\"}}], \"name\": \"2014\"}, {\"data\": [{\"type\": \"choropleth\", \"colorscale\": [[0.0, \"#ffe5e5\"], [0.1, \"#ffb2b2\"], [0.2, \"#ff7f7f\"], [0.3, \"#ff4c4c\"], [0.4, \"#ff0000\"], [0.5, \"#b20000\"], [0.7, \"#7f0000\"], [1.0, \"#4c0000\"]], \"autocolorscale\": false, \"locations\": [\"AK\", \"AL\", \"AR\", \"AZ\", \"CA\", \"CO\", \"CT\", \"DC\", \"DE\", \"FL\", \"GA\", \"HI\", \"IA\", \"ID\", \"IL\", \"IN\", \"KS\", \"KY\", \"LA\", \"MA\", \"MD\", \"ME\", \"MI\", \"MN\", \"MO\", \"MS\", \"MT\", \"NC\", \"ND\", \"NE\", \"NH\", \"NJ\", \"NM\", \"NV\", \"NY\", \"OH\", \"OK\", \"OR\", \"PA\", \"SC\", \"SD\", \"TN\", \"TX\", \"UT\", \"VA\", \"VT\", \"WA\", \"WI\", \"WV\", \"WY\"], \"z\": [5, 21, 6, 43, 212, 29, 4, 6, 4, 82, 40, 4, 5, 8, 23, 22, 13, 18, 30, 12, 20, 2, 19, 14, 24, 14, 4, 28, 1, 10, 4, 24, 20, 20, 28, 39, 39, 18, 24, 21, 3, 24, 112, 11, 22, 1, 20, 11, 11, 6], \"locationmode\": \"USA-states\", \"marker\": {\"line\": {\"color\": \"rgb(255,255,255)\", \"width\": 2}}, \"colorbar\": {\"title\": \"Deaths\"}}], \"name\": \"2015\"}, {\"data\": [{\"type\": \"choropleth\", \"colorscale\": [[0.0, \"#ffe5e5\"], [0.1, \"#ffb2b2\"], [0.2, \"#ff7f7f\"], [0.3, \"#ff4c4c\"], [0.4, \"#ff0000\"], [0.5, \"#b20000\"], [0.7, \"#7f0000\"], [1.0, \"#4c0000\"]], \"autocolorscale\": false, \"locations\": [\"AK\", \"AL\", \"AR\", \"AZ\", \"CA\", \"CO\", \"CT\", \"DC\", \"DE\", \"FL\", \"GA\", \"HI\", \"IA\", \"ID\", \"IL\", \"IN\", \"KS\", \"KY\", \"LA\", \"MA\", \"MD\", \"ME\", \"MI\", \"MN\", \"MO\", \"MS\", \"MT\", \"NC\", \"ND\", \"NE\", \"NH\", \"NJ\", \"NM\", \"NV\", \"NY\", \"OH\", \"OK\", \"OR\", \"PA\", \"RI\", \"SC\", \"SD\", \"TN\", \"TX\", \"UT\", \"VA\", \"VT\", \"WA\", \"WI\", \"WV\", \"WY\"], \"z\": [7, 27, 23, 49, 162, 32, 6, 5, 1, 77, 28, 7, 5, 6, 33, 19, 11, 23, 25, 14, 19, 2, 17, 14, 23, 10, 5, 39, 1, 8, 2, 17, 22, 15, 24, 28, 33, 17, 25, 2, 18, 6, 26, 94, 9, 20, 2, 27, 17, 12, 2], \"locationmode\": \"USA-states\", \"marker\": {\"line\": {\"color\": \"rgb(255,255,255)\", \"width\": 2}}, \"colorbar\": {\"title\": \"Deaths\"}}], \"name\": \"2016\"}, {\"data\": [{\"type\": \"choropleth\", \"colorscale\": [[0.0, \"#ffe5e5\"], [0.1, \"#ffb2b2\"], [0.2, \"#ff7f7f\"], [0.3, \"#ff4c4c\"], [0.4, \"#ff0000\"], [0.5, \"#b20000\"], [0.7, \"#7f0000\"], [1.0, \"#4c0000\"]], \"autocolorscale\": false, \"locations\": [\"AK\", \"AL\", \"AR\", \"AZ\", \"CA\", \"CO\", \"CT\", \"DC\", \"DE\", \"FL\", \"GA\", \"HI\", \"IA\", \"ID\", \"IL\", \"IN\", \"KS\", \"KY\", \"LA\", \"MA\", \"MD\", \"ME\", \"MI\", \"MN\", \"MO\", \"MS\", \"MT\", \"NC\", \"ND\", \"NE\", \"NH\", \"NJ\", \"NM\", \"NV\", \"NY\", \"OH\", \"OK\", \"OR\", \"PA\", \"RI\", \"SC\", \"SD\", \"TN\", \"TX\", \"UT\", \"VA\", \"VT\", \"WA\", \"WI\", \"WV\", \"WY\"], \"z\": [7, 25, 16, 47, 174, 33, 6, 2, 7, 69, 39, 5, 6, 6, 28, 19, 16, 18, 22, 6, 14, 10, 14, 10, 35, 17, 6, 26, 3, 1, 3, 14, 24, 17, 18, 33, 30, 12, 27, 1, 15, 3, 28, 79, 6, 29, 1, 42, 26, 12, 1], \"locationmode\": \"USA-states\", \"marker\": {\"line\": {\"color\": \"rgb(255,255,255)\", \"width\": 2}}, \"colorbar\": {\"title\": \"Deaths\"}}], \"name\": \"2017\"}]);}).then(function(){Plotly.animate('81e47700-b783-46d1-9b83-92993194d3c2');})\n",
       "        });</script>"
      ],
      "text/vnd.plotly.v1+html": [
       "<div id=\"81e47700-b783-46d1-9b83-92993194d3c2\" style=\"height: 525px; width: 100%;\" class=\"plotly-graph-div\"></div><script type=\"text/javascript\">require([\"plotly\"], function(Plotly) { window.PLOTLYENV=window.PLOTLYENV || {};window.PLOTLYENV.BASE_URL=\"https://plot.ly\";\n",
       "        Plotly.plot(\n",
       "            '81e47700-b783-46d1-9b83-92993194d3c2',\n",
       "            [{\"type\": \"choropleth\", \"colorscale\": [[0.0, \"#ffe5e5\"], [0.1, \"#ffb2b2\"], [0.2, \"#ff7f7f\"], [0.3, \"#ff4c4c\"], [0.4, \"#ff0000\"], [0.5, \"#b20000\"], [0.7, \"#7f0000\"], [1.0, \"#4c0000\"]], \"autocolorscale\": false, \"locations\": [\"AK\", \"AL\", \"AR\", \"AZ\", \"CA\", \"CO\", \"CT\", \"DC\", \"DE\", \"FL\", \"GA\", \"HI\", \"IA\", \"ID\", \"IL\", \"IN\", \"KS\", \"KY\", \"LA\", \"MA\", \"MD\", \"ME\", \"MI\", \"MN\", \"MO\", \"MS\", \"MT\", \"NC\", \"ND\", \"NE\", \"NH\", \"NJ\", \"NM\", \"NV\", \"NY\", \"OH\", \"OK\", \"OR\", \"PA\", \"RI\", \"SC\", \"SD\", \"TN\", \"TX\", \"UT\", \"VA\", \"VT\", \"WA\", \"WI\", \"WV\", \"WY\"], \"z\": [4, 23, 14, 49, 189, 20, 11, 5, 2, 98, 30, 4, 5, 4, 27, 22, 6, 7, 15, 15, 25, 5, 13, 13, 27, 6, 7, 33, 2, 5, 3, 15, 15, 13, 30, 28, 21, 13, 39, 1, 13, 2, 21, 91, 7, 17, 1, 30, 15, 10, 1], \"locationmode\": \"USA-states\", \"marker\": {\"line\": {\"color\": \"rgb(255,255,255)\", \"width\": 2}}, \"colorbar\": {\"title\": \"Deaths\"}}],\n",
       "            {\"title\": \"US Police Killings\", \"geo\": {\"scope\": \"usa\", \"projection\": {\"type\": \"albers usa\"}, \"showlakes\": true, \"lakecolor\": \"rgb(255, 255, 255)\"}, \"updatemenus\": [{\"buttons\": [{\"args\": [null, {\"frame\": {\"duration\": 1500, \"redraw\": false}, \"fromcurrent\": true, \"transition\": {\"duration\": 300, \"easing\": \"quadratic-in-out\"}}], \"label\": \"Play\", \"method\": \"animate\"}, {\"args\": [[null], {\"frame\": {\"duration\": 0, \"redraw\": false}, \"mode\": \"immediate\", \"transition\": {\"duration\": 0}}], \"label\": \"Pause\", \"method\": \"animate\"}], \"direction\": \"left\", \"pad\": {\"r\": 10, \"t\": 87}, \"showactive\": false, \"type\": \"buttons\", \"x\": 0.1, \"xanchor\": \"right\", \"y\": 0, \"yanchor\": \"top\"}], \"sliders\": [{\"active\": 0, \"yanchor\": \"top\", \"xanchor\": \"left\", \"currentvalue\": {\"font\": {\"size\": 20}, \"prefix\": \"Year: \", \"visible\": true, \"xanchor\": \"right\"}, \"transition\": {\"duration\": 300, \"easing\": \"cubic-in-out\"}, \"pad\": {\"b\": 10, \"t\": 50}, \"len\": 0.9, \"x\": 0.1, \"y\": 0, \"steps\": [{\"args\": [[\"2013\"], {\"frame\": {\"duration\": 1500, \"redraw\": false}, \"mode\": \"immediate\", \"transition\": {\"duration\": 300}}], \"label\": \"2013\", \"method\": \"animate\"}, {\"args\": [[\"2014\"], {\"frame\": {\"duration\": 1500, \"redraw\": false}, \"mode\": \"immediate\", \"transition\": {\"duration\": 300}}], \"label\": \"2014\", \"method\": \"animate\"}, {\"args\": [[\"2015\"], {\"frame\": {\"duration\": 1500, \"redraw\": false}, \"mode\": \"immediate\", \"transition\": {\"duration\": 300}}], \"label\": \"2015\", \"method\": \"animate\"}, {\"args\": [[\"2016\"], {\"frame\": {\"duration\": 1500, \"redraw\": false}, \"mode\": \"immediate\", \"transition\": {\"duration\": 300}}], \"label\": \"2016\", \"method\": \"animate\"}, {\"args\": [[\"2017\"], {\"frame\": {\"duration\": 1500, \"redraw\": false}, \"mode\": \"immediate\", \"transition\": {\"duration\": 300}}], \"label\": \"2017\", \"method\": \"animate\"}]}]},\n",
       "            {\"showLink\": true, \"linkText\": \"Export to plot.ly\"}\n",
       "        ).then(function () {return Plotly.addFrames('81e47700-b783-46d1-9b83-92993194d3c2',[{\"data\": [{\"type\": \"choropleth\", \"colorscale\": [[0.0, \"#ffe5e5\"], [0.1, \"#ffb2b2\"], [0.2, \"#ff7f7f\"], [0.3, \"#ff4c4c\"], [0.4, \"#ff0000\"], [0.5, \"#b20000\"], [0.7, \"#7f0000\"], [1.0, \"#4c0000\"]], \"autocolorscale\": false, \"locations\": [\"AK\", \"AL\", \"AR\", \"AZ\", \"CA\", \"CO\", \"CT\", \"DC\", \"DE\", \"FL\", \"GA\", \"HI\", \"IA\", \"ID\", \"IL\", \"IN\", \"KS\", \"KY\", \"LA\", \"MA\", \"MD\", \"ME\", \"MI\", \"MN\", \"MO\", \"MS\", \"MT\", \"NC\", \"ND\", \"NE\", \"NH\", \"NJ\", \"NM\", \"NV\", \"NY\", \"OH\", \"OK\", \"OR\", \"PA\", \"RI\", \"SC\", \"SD\", \"TN\", \"TX\", \"UT\", \"VA\", \"VT\", \"WA\", \"WI\", \"WV\", \"WY\"], \"z\": [4, 23, 14, 49, 189, 20, 11, 5, 2, 98, 30, 4, 5, 4, 27, 22, 6, 7, 15, 15, 25, 5, 13, 13, 27, 6, 7, 33, 2, 5, 3, 15, 15, 13, 30, 28, 21, 13, 39, 1, 13, 2, 21, 91, 7, 17, 1, 30, 15, 10, 1], \"locationmode\": \"USA-states\", \"marker\": {\"line\": {\"color\": \"rgb(255,255,255)\", \"width\": 2}}, \"colorbar\": {\"title\": \"Deaths\"}}], \"name\": \"2013\"}, {\"data\": [{\"type\": \"choropleth\", \"colorscale\": [[0.0, \"#ffe5e5\"], [0.1, \"#ffb2b2\"], [0.2, \"#ff7f7f\"], [0.3, \"#ff4c4c\"], [0.4, \"#ff0000\"], [0.5, \"#b20000\"], [0.7, \"#7f0000\"], [1.0, \"#4c0000\"]], \"autocolorscale\": false, \"locations\": [\"AK\", \"AL\", \"AR\", \"AZ\", \"CA\", \"CO\", \"CT\", \"DC\", \"DE\", \"FL\", \"GA\", \"HI\", \"IA\", \"ID\", \"IL\", \"IN\", \"KS\", \"KY\", \"LA\", \"MA\", \"MD\", \"ME\", \"MI\", \"MN\", \"MO\", \"MS\", \"MT\", \"NC\", \"ND\", \"NE\", \"NH\", \"NJ\", \"NM\", \"NV\", \"NY\", \"OH\", \"OK\", \"OR\", \"PA\", \"RI\", \"SC\", \"SD\", \"TN\", \"TX\", \"UT\", \"VA\", \"VT\", \"WA\", \"WI\", \"WV\", \"WY\"], \"z\": [2, 17, 7, 47, 170, 22, 3, 5, 3, 98, 30, 4, 10, 4, 35, 11, 15, 18, 25, 6, 24, 6, 21, 12, 28, 18, 6, 35, 1, 6, 1, 18, 20, 22, 27, 31, 29, 17, 18, 1, 22, 3, 25, 103, 19, 11, 1, 34, 10, 8, 3], \"locationmode\": \"USA-states\", \"marker\": {\"line\": {\"color\": \"rgb(255,255,255)\", \"width\": 2}}, \"colorbar\": {\"title\": \"Deaths\"}}], \"name\": \"2014\"}, {\"data\": [{\"type\": \"choropleth\", \"colorscale\": [[0.0, \"#ffe5e5\"], [0.1, \"#ffb2b2\"], [0.2, \"#ff7f7f\"], [0.3, \"#ff4c4c\"], [0.4, \"#ff0000\"], [0.5, \"#b20000\"], [0.7, \"#7f0000\"], [1.0, \"#4c0000\"]], \"autocolorscale\": false, \"locations\": [\"AK\", \"AL\", \"AR\", \"AZ\", \"CA\", \"CO\", \"CT\", \"DC\", \"DE\", \"FL\", \"GA\", \"HI\", \"IA\", \"ID\", \"IL\", \"IN\", \"KS\", \"KY\", \"LA\", \"MA\", \"MD\", \"ME\", \"MI\", \"MN\", \"MO\", \"MS\", \"MT\", \"NC\", \"ND\", \"NE\", \"NH\", \"NJ\", \"NM\", \"NV\", \"NY\", \"OH\", \"OK\", \"OR\", \"PA\", \"SC\", \"SD\", \"TN\", \"TX\", \"UT\", \"VA\", \"VT\", \"WA\", \"WI\", \"WV\", \"WY\"], \"z\": [5, 21, 6, 43, 212, 29, 4, 6, 4, 82, 40, 4, 5, 8, 23, 22, 13, 18, 30, 12, 20, 2, 19, 14, 24, 14, 4, 28, 1, 10, 4, 24, 20, 20, 28, 39, 39, 18, 24, 21, 3, 24, 112, 11, 22, 1, 20, 11, 11, 6], \"locationmode\": \"USA-states\", \"marker\": {\"line\": {\"color\": \"rgb(255,255,255)\", \"width\": 2}}, \"colorbar\": {\"title\": \"Deaths\"}}], \"name\": \"2015\"}, {\"data\": [{\"type\": \"choropleth\", \"colorscale\": [[0.0, \"#ffe5e5\"], [0.1, \"#ffb2b2\"], [0.2, \"#ff7f7f\"], [0.3, \"#ff4c4c\"], [0.4, \"#ff0000\"], [0.5, \"#b20000\"], [0.7, \"#7f0000\"], [1.0, \"#4c0000\"]], \"autocolorscale\": false, \"locations\": [\"AK\", \"AL\", \"AR\", \"AZ\", \"CA\", \"CO\", \"CT\", \"DC\", \"DE\", \"FL\", \"GA\", \"HI\", \"IA\", \"ID\", \"IL\", \"IN\", \"KS\", \"KY\", \"LA\", \"MA\", \"MD\", \"ME\", \"MI\", \"MN\", \"MO\", \"MS\", \"MT\", \"NC\", \"ND\", \"NE\", \"NH\", \"NJ\", \"NM\", \"NV\", \"NY\", \"OH\", \"OK\", \"OR\", \"PA\", \"RI\", \"SC\", \"SD\", \"TN\", \"TX\", \"UT\", \"VA\", \"VT\", \"WA\", \"WI\", \"WV\", \"WY\"], \"z\": [7, 27, 23, 49, 162, 32, 6, 5, 1, 77, 28, 7, 5, 6, 33, 19, 11, 23, 25, 14, 19, 2, 17, 14, 23, 10, 5, 39, 1, 8, 2, 17, 22, 15, 24, 28, 33, 17, 25, 2, 18, 6, 26, 94, 9, 20, 2, 27, 17, 12, 2], \"locationmode\": \"USA-states\", \"marker\": {\"line\": {\"color\": \"rgb(255,255,255)\", \"width\": 2}}, \"colorbar\": {\"title\": \"Deaths\"}}], \"name\": \"2016\"}, {\"data\": [{\"type\": \"choropleth\", \"colorscale\": [[0.0, \"#ffe5e5\"], [0.1, \"#ffb2b2\"], [0.2, \"#ff7f7f\"], [0.3, \"#ff4c4c\"], [0.4, \"#ff0000\"], [0.5, \"#b20000\"], [0.7, \"#7f0000\"], [1.0, \"#4c0000\"]], \"autocolorscale\": false, \"locations\": [\"AK\", \"AL\", \"AR\", \"AZ\", \"CA\", \"CO\", \"CT\", \"DC\", \"DE\", \"FL\", \"GA\", \"HI\", \"IA\", \"ID\", \"IL\", \"IN\", \"KS\", \"KY\", \"LA\", \"MA\", \"MD\", \"ME\", \"MI\", \"MN\", \"MO\", \"MS\", \"MT\", \"NC\", \"ND\", \"NE\", \"NH\", \"NJ\", \"NM\", \"NV\", \"NY\", \"OH\", \"OK\", \"OR\", \"PA\", \"RI\", \"SC\", \"SD\", \"TN\", \"TX\", \"UT\", \"VA\", \"VT\", \"WA\", \"WI\", \"WV\", \"WY\"], \"z\": [7, 25, 16, 47, 174, 33, 6, 2, 7, 69, 39, 5, 6, 6, 28, 19, 16, 18, 22, 6, 14, 10, 14, 10, 35, 17, 6, 26, 3, 1, 3, 14, 24, 17, 18, 33, 30, 12, 27, 1, 15, 3, 28, 79, 6, 29, 1, 42, 26, 12, 1], \"locationmode\": \"USA-states\", \"marker\": {\"line\": {\"color\": \"rgb(255,255,255)\", \"width\": 2}}, \"colorbar\": {\"title\": \"Deaths\"}}], \"name\": \"2017\"}]);}).then(function(){Plotly.animate('81e47700-b783-46d1-9b83-92993194d3c2');})\n",
       "        });</script>"
      ]
     },
     "metadata": {},
     "output_type": "display_data"
    }
   ],
   "source": [
    "fig = {\n",
    "    'data': data,\n",
    "    'layout': layout,\n",
    "    'frames': frames\n",
    "}\n",
    "iplot(fig)"
   ]
  },
  {
   "cell_type": "markdown",
   "metadata": {},
   "source": [
    "# Color Map of Killings by State per Capita"
   ]
  },
  {
   "cell_type": "code",
   "execution_count": 139,
   "metadata": {},
   "outputs": [],
   "source": [
    "statepop = pd.read_csv(\"us-population.csv\", thousands=\",\")\n",
    "us_state_abbrev = {\n",
    "    'Alabama': 'AL',\n",
    "    'Alaska': 'AK',\n",
    "    'Arizona': 'AZ',\n",
    "    'Arkansas': 'AR',\n",
    "    'California': 'CA',\n",
    "    'Colorado': 'CO',\n",
    "    'Connecticut': 'CT',\n",
    "    'District of Columbia': 'DC',\n",
    "    'Delaware': 'DE',\n",
    "    'Florida': 'FL',\n",
    "    'Georgia': 'GA',\n",
    "    'Hawaii': 'HI',\n",
    "    'Idaho': 'ID',\n",
    "    'Illinois': 'IL',\n",
    "    'Indiana': 'IN',\n",
    "    'Iowa': 'IA',\n",
    "    'Kansas': 'KS',\n",
    "    'Kentucky': 'KY',\n",
    "    'Louisiana': 'LA',\n",
    "    'Maine': 'ME',\n",
    "    'Maryland': 'MD',\n",
    "    'Massachusetts': 'MA',\n",
    "    'Michigan': 'MI',\n",
    "    'Minnesota': 'MN',\n",
    "    'Mississippi': 'MS',\n",
    "    'Missouri': 'MO',\n",
    "    'Montana': 'MT',\n",
    "    'Nebraska': 'NE',\n",
    "    'Nevada': 'NV',\n",
    "    'New Hampshire': 'NH',\n",
    "    'New Jersey': 'NJ',\n",
    "    'New Mexico': 'NM',\n",
    "    'New York': 'NY',\n",
    "    'North Carolina': 'NC',\n",
    "    'North Dakota': 'ND',\n",
    "    'Ohio': 'OH',\n",
    "    'Oklahoma': 'OK',\n",
    "    'Oregon': 'OR',\n",
    "    'Pennsylvania': 'PA',\n",
    "    'Rhode Island': 'RI',\n",
    "    'South Carolina': 'SC',\n",
    "    'South Dakota': 'SD',\n",
    "    'Tennessee': 'TN',\n",
    "    'Texas': 'TX',\n",
    "    'Utah': 'UT',\n",
    "    'Vermont': 'VT',\n",
    "    'Virginia': 'VA',\n",
    "    'Washington': 'WA',\n",
    "    'West Virginia': 'WV',\n",
    "    'Wisconsin': 'WI',\n",
    "    'Wyoming': 'WY',\n",
    "}\n",
    "statepop[\"States\"] = [us_state_abbrev[state.strip(\".\")] for state in statepop[\"States\"]]\n",
    "statepop.set_index(\"States\", inplace=True)"
   ]
  },
  {
   "cell_type": "code",
   "execution_count": 140,
   "metadata": {},
   "outputs": [],
   "source": [
    "statepop.apply(pd.to_numeric, errors='ignore')\n",
    "statepop = statepop[[\"2013\", \"2014\", \"2015\", \"2016\", \"2017\"]]"
   ]
  },
  {
   "cell_type": "code",
   "execution_count": 141,
   "metadata": {},
   "outputs": [
    {
     "name": "stdout",
     "output_type": "stream",
     "text": [
      "50\n"
     ]
    },
    {
     "data": {
      "text/plain": [
       "year  State\n",
       "2015  AK         5\n",
       "      AL        21\n",
       "      AR         6\n",
       "      AZ        43\n",
       "      CA       212\n",
       "      CO        29\n",
       "      CT         4\n",
       "      DC         6\n",
       "      DE         4\n",
       "      FL        82\n",
       "      GA        40\n",
       "      HI         4\n",
       "      IA         5\n",
       "      ID         8\n",
       "      IL        23\n",
       "      IN        22\n",
       "      KS        13\n",
       "      KY        18\n",
       "      LA        30\n",
       "      MA        12\n",
       "      MD        20\n",
       "      ME         2\n",
       "      MI        19\n",
       "      MN        14\n",
       "      MO        24\n",
       "      MS        14\n",
       "      MT         4\n",
       "      NC        28\n",
       "      ND         1\n",
       "      NE        10\n",
       "      NH         4\n",
       "      NJ        24\n",
       "      NM        20\n",
       "      NV        20\n",
       "      NY        28\n",
       "      OH        39\n",
       "      OK        39\n",
       "      OR        18\n",
       "      PA        24\n",
       "      SC        21\n",
       "      SD         3\n",
       "      TN        24\n",
       "      TX       112\n",
       "      UT        11\n",
       "      VA        22\n",
       "      VT         1\n",
       "      WA        20\n",
       "      WI        11\n",
       "      WV        11\n",
       "      WY         6\n",
       "Name: Victim's name, dtype: int64"
      ]
     },
     "execution_count": 141,
     "metadata": {},
     "output_type": "execute_result"
    }
   ],
   "source": [
    "print(len(mpvstate[mpvstate.index.get_level_values(\"year\")==\"2015\"]))\n",
    "mpvstate[mpvstate.index.get_level_values(\"year\")==\"2015\"]"
   ]
  },
  {
   "cell_type": "code",
   "execution_count": 142,
   "metadata": {},
   "outputs": [
    {
     "data": {
      "text/plain": [
       "year  State\n",
       "2016  AK         7\n",
       "      AL        27\n",
       "      AR        23\n",
       "      AZ        49\n",
       "      CA       162\n",
       "      CO        32\n",
       "      CT         6\n",
       "      DC         5\n",
       "      DE         1\n",
       "      FL        77\n",
       "      GA        28\n",
       "      HI         7\n",
       "      IA         5\n",
       "      ID         6\n",
       "      IL        33\n",
       "      IN        19\n",
       "      KS        11\n",
       "      KY        23\n",
       "      LA        25\n",
       "      MA        14\n",
       "      MD        19\n",
       "      ME         2\n",
       "      MI        17\n",
       "      MN        14\n",
       "      MO        23\n",
       "      MS        10\n",
       "      MT         5\n",
       "      NC        39\n",
       "      ND         1\n",
       "      NE         8\n",
       "      NH         2\n",
       "      NJ        17\n",
       "      NM        22\n",
       "      NV        15\n",
       "      NY        24\n",
       "      OH        28\n",
       "      OK        33\n",
       "      OR        17\n",
       "      PA        25\n",
       "      RI         2\n",
       "      SC        18\n",
       "      SD         6\n",
       "      TN        26\n",
       "      TX        94\n",
       "      UT         9\n",
       "      VA        20\n",
       "      VT         2\n",
       "      WA        27\n",
       "      WI        17\n",
       "      WV        12\n",
       "      WY         2\n",
       "Name: Victim's name, dtype: int64"
      ]
     },
     "execution_count": 142,
     "metadata": {},
     "output_type": "execute_result"
    }
   ],
   "source": [
    "mpvstate[mpvstate.index.get_level_values(\"year\")==\"2016\"]"
   ]
  },
  {
   "cell_type": "code",
   "execution_count": 143,
   "metadata": {},
   "outputs": [],
   "source": [
    "population = [list(statepop[\"2013\"]), list(statepop[\"2014\"]), list(statepop[\"2015\"]), list(statepop[\"2016\"]), list(statepop[\"2017\"])]"
   ]
  },
  {
   "cell_type": "code",
   "execution_count": 144,
   "metadata": {},
   "outputs": [],
   "source": [
    "scl = [[0.0, '#ffe5e5'],[0.1, '#ffb2b2'], [0.2, '#ff7f7f'],[0.3, '#ff4c4c'],\n",
    "       [0.4, '#ff0000'], [0.5, '#b20000'], [0.7, '#7f0000'], [1.0, '#4c0000']\n",
    "      ]\n",
    "\n",
    "data = [{\n",
    "        'type':'choropleth',\n",
    "        'colorscale': scl,\n",
    "        'autocolorscale': False,\n",
    "        'locations': statecode[0],\n",
    "        'z': yeardata[0],\n",
    "        'locationmode': 'USA-states',\n",
    "        'marker': dict(\n",
    "            line = dict (\n",
    "                color = 'rgb(255,255,255)',\n",
    "                width = 2\n",
    "            )\n",
    "        ),\n",
    "        'colorbar': {\n",
    "            'title': \"Deaths per 1,000,000 People\"\n",
    "        }\n",
    "}]\n",
    "\n",
    "layout = dict(\n",
    "        title = 'US Police Killings per Capita',\n",
    "        geo = dict(\n",
    "            scope='usa',\n",
    "            projection=dict( type='albers usa' ),\n",
    "            showlakes = True,\n",
    "            lakecolor = 'rgb(255, 255, 255)'\n",
    "        )\n",
    ")\n",
    "\n",
    "layout['updatemenus'] = [{\n",
    "    'buttons': [\n",
    "        {\n",
    "            'args': [None, {'frame': {'duration': 1500, 'redraw': False},\n",
    "                     'fromcurrent': True, 'transition': {'duration': 300, 'easing': 'quadratic-in-out'}}],\n",
    "            'label': 'Play',\n",
    "            'method': 'animate'\n",
    "        },\n",
    "        {\n",
    "            'args': [[None], {'frame': {'duration': 0, 'redraw': False}, 'mode': 'immediate',\n",
    "            'transition': {'duration': 0}}],\n",
    "            'label': 'Pause',\n",
    "            'method': 'animate'\n",
    "        }\n",
    "    ],\n",
    "    'direction': 'left',\n",
    "    'pad': {'r': 10, 't': 87},\n",
    "    'showactive': False,\n",
    "    'type': 'buttons',\n",
    "    'x': 0.1,\n",
    "    'xanchor': 'right',\n",
    "    'y': 0,\n",
    "    'yanchor': 'top'\n",
    "}]\n",
    "layout['sliders'] = [{\n",
    "    'active': 0,\n",
    "    'yanchor': 'top',\n",
    "    'xanchor': 'left',\n",
    "    'currentvalue': {\n",
    "        'font': {'size': 20},\n",
    "        'prefix': 'Year: ',\n",
    "        'visible': True,\n",
    "        'xanchor': 'right'\n",
    "    },\n",
    "    'transition': {'duration': 300, 'easing': 'cubic-in-out'},\n",
    "    'pad': {'b': 10, 't': 50},\n",
    "    'len': 0.9,\n",
    "    'x': 0.1,\n",
    "    'y': 0,\n",
    "    'steps': []\n",
    "}]\n",
    "years=[\"2013\", \"2014\", \"2015\", \"2016\", \"2017\"]\n",
    "for year in years:\n",
    "    # creating and appending each slider step\n",
    "    slider_step = {'args': [\n",
    "        [year],\n",
    "        {'frame': {'duration': 1500, 'redraw': False},\n",
    "         'mode': 'immediate',\n",
    "       'transition': {'duration': 300}}\n",
    "     ],\n",
    "     'label': year,\n",
    "     'method': 'animate'}\n",
    "    layout['sliders'][0]['steps'].append(slider_step)\n",
    "\n",
    "frames = []\n",
    "for i in range(len(years)):\n",
    "    # creating and appending data to frame\n",
    "    frame = {\n",
    "        'data': [],\n",
    "        'name': years[i]\n",
    "    }\n",
    "    data_dict = {\n",
    "        'type':'choropleth',\n",
    "        'colorscale': scl,\n",
    "        'autocolorscale': False,\n",
    "        'locations': statecode[i],\n",
    "        'z': [int(x/y*1000000) for x,y in zip(yeardata[i], population[i])],\n",
    "        'locationmode': 'USA-states',\n",
    "        'marker': dict(\n",
    "            line = dict (\n",
    "                color = 'rgb(255,255,255)',\n",
    "                width = 2\n",
    "            ) ),\n",
    "        'colorbar': dict(\n",
    "            title = \"Deaths per 1,000,000 People\") \n",
    "    }\n",
    "    frame['data'].append(data_dict)\n",
    "    frames.append(frame)"
   ]
  },
  {
   "cell_type": "code",
   "execution_count": 145,
   "metadata": {},
   "outputs": [
    {
     "data": {
      "application/vnd.plotly.v1+json": {
       "data": [
        {
         "autocolorscale": false,
         "colorbar": {
          "title": "Deaths per 1,000,000 People"
         },
         "colorscale": [
          [
           0,
           "#ffe5e5"
          ],
          [
           0.1,
           "#ffb2b2"
          ],
          [
           0.2,
           "#ff7f7f"
          ],
          [
           0.3,
           "#ff4c4c"
          ],
          [
           0.4,
           "#ff0000"
          ],
          [
           0.5,
           "#b20000"
          ],
          [
           0.7,
           "#7f0000"
          ],
          [
           1,
           "#4c0000"
          ]
         ],
         "locationmode": "USA-states",
         "locations": [
          "AK",
          "AL",
          "AR",
          "AZ",
          "CA",
          "CO",
          "CT",
          "DC",
          "DE",
          "FL",
          "GA",
          "HI",
          "IA",
          "ID",
          "IL",
          "IN",
          "KS",
          "KY",
          "LA",
          "MA",
          "MD",
          "ME",
          "MI",
          "MN",
          "MO",
          "MS",
          "MT",
          "NC",
          "ND",
          "NE",
          "NH",
          "NJ",
          "NM",
          "NV",
          "NY",
          "OH",
          "OK",
          "OR",
          "PA",
          "RI",
          "SC",
          "SD",
          "TN",
          "TX",
          "UT",
          "VA",
          "VT",
          "WA",
          "WI",
          "WV",
          "WY"
         ],
         "marker": {
          "line": {
           "color": "rgb(255,255,255)",
           "width": 2
          }
         },
         "type": "choropleth",
         "z": [
          4,
          23,
          14,
          49,
          189,
          20,
          11,
          5,
          2,
          98,
          30,
          4,
          5,
          4,
          27,
          22,
          6,
          7,
          15,
          15,
          25,
          5,
          13,
          13,
          27,
          6,
          7,
          33,
          2,
          5,
          3,
          15,
          15,
          13,
          30,
          28,
          21,
          13,
          39,
          1,
          13,
          2,
          21,
          91,
          7,
          17,
          1,
          30,
          15,
          10,
          1
         ]
        }
       ],
       "frames": [
        {
         "data": [
          {
           "autocolorscale": false,
           "colorbar": {
            "title": "Deaths per 1,000,000 People"
           },
           "colorscale": [
            [
             0,
             "#ffe5e5"
            ],
            [
             0.1,
             "#ffb2b2"
            ],
            [
             0.2,
             "#ff7f7f"
            ],
            [
             0.3,
             "#ff4c4c"
            ],
            [
             0.4,
             "#ff0000"
            ],
            [
             0.5,
             "#b20000"
            ],
            [
             0.7,
             "#7f0000"
            ],
            [
             1,
             "#4c0000"
            ]
           ],
           "locationmode": "USA-states",
           "locations": [
            "AK",
            "AL",
            "AR",
            "AZ",
            "CA",
            "CO",
            "CT",
            "DC",
            "DE",
            "FL",
            "GA",
            "HI",
            "IA",
            "ID",
            "IL",
            "IN",
            "KS",
            "KY",
            "LA",
            "MA",
            "MD",
            "ME",
            "MI",
            "MN",
            "MO",
            "MS",
            "MT",
            "NC",
            "ND",
            "NE",
            "NH",
            "NJ",
            "NM",
            "NV",
            "NY",
            "OH",
            "OK",
            "OR",
            "PA",
            "RI",
            "SC",
            "SD",
            "TN",
            "TX",
            "UT",
            "VA",
            "VT",
            "WA",
            "WI",
            "WV",
            "WY"
           ],
           "marker": {
            "line": {
             "color": "rgb(255,255,255)",
             "width": 2
            }
           },
           "type": "choropleth",
           "z": [
            0,
            31,
            2,
            16,
            4,
            3,
            3,
            5,
            3,
            5,
            3,
            2,
            3,
            0,
            4,
            7,
            2,
            1,
            3,
            11,
            4,
            0,
            1,
            2,
            9,
            0,
            6,
            17,
            0,
            3,
            0,
            7,
            0,
            1,
            41,
            2,
            5,
            3,
            3,
            0,
            2,
            2,
            3,
            3,
            2,
            27,
            0,
            4,
            8,
            1,
            1
           ]
          }
         ],
         "name": "2013"
        },
        {
         "data": [
          {
           "autocolorscale": false,
           "colorbar": {
            "title": "Deaths per 1,000,000 People"
           },
           "colorscale": [
            [
             0,
             "#ffe5e5"
            ],
            [
             0.1,
             "#ffb2b2"
            ],
            [
             0.2,
             "#ff7f7f"
            ],
            [
             0.3,
             "#ff4c4c"
            ],
            [
             0.4,
             "#ff0000"
            ],
            [
             0.5,
             "#b20000"
            ],
            [
             0.7,
             "#7f0000"
            ],
            [
             1,
             "#4c0000"
            ]
           ],
           "locationmode": "USA-states",
           "locations": [
            "AK",
            "AL",
            "AR",
            "AZ",
            "CA",
            "CO",
            "CT",
            "DC",
            "DE",
            "FL",
            "GA",
            "HI",
            "IA",
            "ID",
            "IL",
            "IN",
            "KS",
            "KY",
            "LA",
            "MA",
            "MD",
            "ME",
            "MI",
            "MN",
            "MO",
            "MS",
            "MT",
            "NC",
            "ND",
            "NE",
            "NH",
            "NJ",
            "NM",
            "NV",
            "NY",
            "OH",
            "OK",
            "OR",
            "PA",
            "RI",
            "SC",
            "SD",
            "TN",
            "TX",
            "UT",
            "VA",
            "VT",
            "WA",
            "WI",
            "WV",
            "WY"
           ],
           "marker": {
            "line": {
             "color": "rgb(255,255,255)",
             "width": 2
            }
           },
           "type": "choropleth",
           "z": [
            0,
            23,
            1,
            15,
            4,
            4,
            0,
            5,
            4,
            4,
            2,
            2,
            6,
            0,
            5,
            3,
            5,
            4,
            5,
            4,
            4,
            0,
            2,
            2,
            9,
            2,
            5,
            18,
            0,
            4,
            0,
            8,
            1,
            2,
            36,
            2,
            7,
            4,
            1,
            0,
            4,
            3,
            3,
            3,
            6,
            17,
            0,
            4,
            5,
            1,
            5
           ]
          }
         ],
         "name": "2014"
        },
        {
         "data": [
          {
           "autocolorscale": false,
           "colorbar": {
            "title": "Deaths per 1,000,000 People"
           },
           "colorscale": [
            [
             0,
             "#ffe5e5"
            ],
            [
             0.1,
             "#ffb2b2"
            ],
            [
             0.2,
             "#ff7f7f"
            ],
            [
             0.3,
             "#ff4c4c"
            ],
            [
             0.4,
             "#ff0000"
            ],
            [
             0.5,
             "#b20000"
            ],
            [
             0.7,
             "#7f0000"
            ],
            [
             1,
             "#4c0000"
            ]
           ],
           "locationmode": "USA-states",
           "locations": [
            "AK",
            "AL",
            "AR",
            "AZ",
            "CA",
            "CO",
            "CT",
            "DC",
            "DE",
            "FL",
            "GA",
            "HI",
            "IA",
            "ID",
            "IL",
            "IN",
            "KS",
            "KY",
            "LA",
            "MA",
            "MD",
            "ME",
            "MI",
            "MN",
            "MO",
            "MS",
            "MT",
            "NC",
            "ND",
            "NE",
            "NH",
            "NJ",
            "NM",
            "NV",
            "NY",
            "OH",
            "OK",
            "OR",
            "PA",
            "SC",
            "SD",
            "TN",
            "TX",
            "UT",
            "VA",
            "VT",
            "WA",
            "WI",
            "WV",
            "WY"
           ],
           "marker": {
            "line": {
             "color": "rgb(255,255,255)",
             "width": 2
            }
           },
           "type": "choropleth",
           "z": [
            1,
            28,
            0,
            14,
            5,
            5,
            1,
            6,
            5,
            4,
            3,
            2,
            3,
            0,
            3,
            7,
            4,
            4,
            6,
            9,
            3,
            0,
            1,
            2,
            8,
            2,
            3,
            14,
            0,
            7,
            0,
            11,
            1,
            1,
            37,
            3,
            9,
            4,
            1,
            19,
            0,
            28,
            16,
            0,
            7,
            1,
            2,
            1,
            5,
            1
           ]
          }
         ],
         "name": "2015"
        },
        {
         "data": [
          {
           "autocolorscale": false,
           "colorbar": {
            "title": "Deaths per 1,000,000 People"
           },
           "colorscale": [
            [
             0,
             "#ffe5e5"
            ],
            [
             0.1,
             "#ffb2b2"
            ],
            [
             0.2,
             "#ff7f7f"
            ],
            [
             0.3,
             "#ff4c4c"
            ],
            [
             0.4,
             "#ff0000"
            ],
            [
             0.5,
             "#b20000"
            ],
            [
             0.7,
             "#7f0000"
            ],
            [
             1,
             "#4c0000"
            ]
           ],
           "locationmode": "USA-states",
           "locations": [
            "AK",
            "AL",
            "AR",
            "AZ",
            "CA",
            "CO",
            "CT",
            "DC",
            "DE",
            "FL",
            "GA",
            "HI",
            "IA",
            "ID",
            "IL",
            "IN",
            "KS",
            "KY",
            "LA",
            "MA",
            "MD",
            "ME",
            "MI",
            "MN",
            "MO",
            "MS",
            "MT",
            "NC",
            "ND",
            "NE",
            "NH",
            "NJ",
            "NM",
            "NV",
            "NY",
            "OH",
            "OK",
            "OR",
            "PA",
            "RI",
            "SC",
            "SD",
            "TN",
            "TX",
            "UT",
            "VA",
            "VT",
            "WA",
            "WI",
            "WV",
            "WY"
           ],
           "marker": {
            "line": {
             "color": "rgb(255,255,255)",
             "width": 2
            }
           },
           "type": "choropleth",
           "z": [
            1,
            36,
            3,
            16,
            4,
            5,
            1,
            5,
            1,
            3,
            2,
            4,
            2,
            0,
            4,
            6,
            3,
            5,
            5,
            10,
            3,
            0,
            1,
            2,
            7,
            1,
            4,
            20,
            0,
            5,
            0,
            8,
            1,
            1,
            31,
            2,
            8,
            4,
            1,
            1,
            3,
            6,
            3,
            3,
            2,
            32,
            0,
            3,
            9,
            2,
            3
           ]
          }
         ],
         "name": "2016"
        },
        {
         "data": [
          {
           "autocolorscale": false,
           "colorbar": {
            "title": "Deaths per 1,000,000 People"
           },
           "colorscale": [
            [
             0,
             "#ffe5e5"
            ],
            [
             0.1,
             "#ffb2b2"
            ],
            [
             0.2,
             "#ff7f7f"
            ],
            [
             0.3,
             "#ff4c4c"
            ],
            [
             0.4,
             "#ff0000"
            ],
            [
             0.5,
             "#b20000"
            ],
            [
             0.7,
             "#7f0000"
            ],
            [
             1,
             "#4c0000"
            ]
           ],
           "locationmode": "USA-states",
           "locations": [
            "AK",
            "AL",
            "AR",
            "AZ",
            "CA",
            "CO",
            "CT",
            "DC",
            "DE",
            "FL",
            "GA",
            "HI",
            "IA",
            "ID",
            "IL",
            "IN",
            "KS",
            "KY",
            "LA",
            "MA",
            "MD",
            "ME",
            "MI",
            "MN",
            "MO",
            "MS",
            "MT",
            "NC",
            "ND",
            "NE",
            "NH",
            "NJ",
            "NM",
            "NV",
            "NY",
            "OH",
            "OK",
            "OR",
            "PA",
            "RI",
            "SC",
            "SD",
            "TN",
            "TX",
            "UT",
            "VA",
            "VT",
            "WA",
            "WI",
            "WV",
            "WY"
           ],
           "marker": {
            "line": {
             "color": "rgb(255,255,255)",
             "width": 2
            }
           },
           "type": "choropleth",
           "z": [
            1,
            33,
            2,
            15,
            4,
            5,
            1,
            2,
            10,
            3,
            3,
            3,
            3,
            0,
            4,
            6,
            5,
            4,
            4,
            4,
            2,
            1,
            1,
            1,
            11,
            2,
            5,
            13,
            1,
            0,
            0,
            6,
            1,
            1,
            23,
            2,
            7,
            2,
            2,
            0,
            2,
            3,
            4,
            2,
            1,
            46,
            0,
            5,
            14,
            2,
            1
           ]
          }
         ],
         "name": "2017"
        }
       ],
       "layout": {
        "geo": {
         "lakecolor": "rgb(255, 255, 255)",
         "projection": {
          "type": "albers usa"
         },
         "scope": "usa",
         "showlakes": true
        },
        "sliders": [
         {
          "active": 0,
          "currentvalue": {
           "font": {
            "size": 20
           },
           "prefix": "Year: ",
           "visible": true,
           "xanchor": "right"
          },
          "len": 0.9,
          "pad": {
           "b": 10,
           "t": 50
          },
          "steps": [
           {
            "args": [
             [
              "2013"
             ],
             {
              "frame": {
               "duration": 1500,
               "redraw": false
              },
              "mode": "immediate",
              "transition": {
               "duration": 300
              }
             }
            ],
            "label": "2013",
            "method": "animate"
           },
           {
            "args": [
             [
              "2014"
             ],
             {
              "frame": {
               "duration": 1500,
               "redraw": false
              },
              "mode": "immediate",
              "transition": {
               "duration": 300
              }
             }
            ],
            "label": "2014",
            "method": "animate"
           },
           {
            "args": [
             [
              "2015"
             ],
             {
              "frame": {
               "duration": 1500,
               "redraw": false
              },
              "mode": "immediate",
              "transition": {
               "duration": 300
              }
             }
            ],
            "label": "2015",
            "method": "animate"
           },
           {
            "args": [
             [
              "2016"
             ],
             {
              "frame": {
               "duration": 1500,
               "redraw": false
              },
              "mode": "immediate",
              "transition": {
               "duration": 300
              }
             }
            ],
            "label": "2016",
            "method": "animate"
           },
           {
            "args": [
             [
              "2017"
             ],
             {
              "frame": {
               "duration": 1500,
               "redraw": false
              },
              "mode": "immediate",
              "transition": {
               "duration": 300
              }
             }
            ],
            "label": "2017",
            "method": "animate"
           }
          ],
          "transition": {
           "duration": 300,
           "easing": "cubic-in-out"
          },
          "x": 0.1,
          "xanchor": "left",
          "y": 0,
          "yanchor": "top"
         }
        ],
        "title": "US Police Killings per Capita",
        "updatemenus": [
         {
          "buttons": [
           {
            "args": [
             null,
             {
              "frame": {
               "duration": 1500,
               "redraw": false
              },
              "fromcurrent": true,
              "transition": {
               "duration": 300,
               "easing": "quadratic-in-out"
              }
             }
            ],
            "label": "Play",
            "method": "animate"
           },
           {
            "args": [
             [
              null
             ],
             {
              "frame": {
               "duration": 0,
               "redraw": false
              },
              "mode": "immediate",
              "transition": {
               "duration": 0
              }
             }
            ],
            "label": "Pause",
            "method": "animate"
           }
          ],
          "direction": "left",
          "pad": {
           "r": 10,
           "t": 87
          },
          "showactive": false,
          "type": "buttons",
          "x": 0.1,
          "xanchor": "right",
          "y": 0,
          "yanchor": "top"
         }
        ]
       }
      },
      "text/html": [
       "<div id=\"73b83f5a-30c4-4655-97dc-d1e409b53afe\" style=\"height: 525px; width: 100%;\" class=\"plotly-graph-div\"></div><script type=\"text/javascript\">require([\"plotly\"], function(Plotly) { window.PLOTLYENV=window.PLOTLYENV || {};window.PLOTLYENV.BASE_URL=\"https://plot.ly\";\n",
       "        Plotly.plot(\n",
       "            '73b83f5a-30c4-4655-97dc-d1e409b53afe',\n",
       "            [{\"type\": \"choropleth\", \"colorscale\": [[0.0, \"#ffe5e5\"], [0.1, \"#ffb2b2\"], [0.2, \"#ff7f7f\"], [0.3, \"#ff4c4c\"], [0.4, \"#ff0000\"], [0.5, \"#b20000\"], [0.7, \"#7f0000\"], [1.0, \"#4c0000\"]], \"autocolorscale\": false, \"locations\": [\"AK\", \"AL\", \"AR\", \"AZ\", \"CA\", \"CO\", \"CT\", \"DC\", \"DE\", \"FL\", \"GA\", \"HI\", \"IA\", \"ID\", \"IL\", \"IN\", \"KS\", \"KY\", \"LA\", \"MA\", \"MD\", \"ME\", \"MI\", \"MN\", \"MO\", \"MS\", \"MT\", \"NC\", \"ND\", \"NE\", \"NH\", \"NJ\", \"NM\", \"NV\", \"NY\", \"OH\", \"OK\", \"OR\", \"PA\", \"RI\", \"SC\", \"SD\", \"TN\", \"TX\", \"UT\", \"VA\", \"VT\", \"WA\", \"WI\", \"WV\", \"WY\"], \"z\": [4, 23, 14, 49, 189, 20, 11, 5, 2, 98, 30, 4, 5, 4, 27, 22, 6, 7, 15, 15, 25, 5, 13, 13, 27, 6, 7, 33, 2, 5, 3, 15, 15, 13, 30, 28, 21, 13, 39, 1, 13, 2, 21, 91, 7, 17, 1, 30, 15, 10, 1], \"locationmode\": \"USA-states\", \"marker\": {\"line\": {\"color\": \"rgb(255,255,255)\", \"width\": 2}}, \"colorbar\": {\"title\": \"Deaths per 1,000,000 People\"}}],\n",
       "            {\"title\": \"US Police Killings per Capita\", \"geo\": {\"scope\": \"usa\", \"projection\": {\"type\": \"albers usa\"}, \"showlakes\": true, \"lakecolor\": \"rgb(255, 255, 255)\"}, \"updatemenus\": [{\"buttons\": [{\"args\": [null, {\"frame\": {\"duration\": 1500, \"redraw\": false}, \"fromcurrent\": true, \"transition\": {\"duration\": 300, \"easing\": \"quadratic-in-out\"}}], \"label\": \"Play\", \"method\": \"animate\"}, {\"args\": [[null], {\"frame\": {\"duration\": 0, \"redraw\": false}, \"mode\": \"immediate\", \"transition\": {\"duration\": 0}}], \"label\": \"Pause\", \"method\": \"animate\"}], \"direction\": \"left\", \"pad\": {\"r\": 10, \"t\": 87}, \"showactive\": false, \"type\": \"buttons\", \"x\": 0.1, \"xanchor\": \"right\", \"y\": 0, \"yanchor\": \"top\"}], \"sliders\": [{\"active\": 0, \"yanchor\": \"top\", \"xanchor\": \"left\", \"currentvalue\": {\"font\": {\"size\": 20}, \"prefix\": \"Year: \", \"visible\": true, \"xanchor\": \"right\"}, \"transition\": {\"duration\": 300, \"easing\": \"cubic-in-out\"}, \"pad\": {\"b\": 10, \"t\": 50}, \"len\": 0.9, \"x\": 0.1, \"y\": 0, \"steps\": [{\"args\": [[\"2013\"], {\"frame\": {\"duration\": 1500, \"redraw\": false}, \"mode\": \"immediate\", \"transition\": {\"duration\": 300}}], \"label\": \"2013\", \"method\": \"animate\"}, {\"args\": [[\"2014\"], {\"frame\": {\"duration\": 1500, \"redraw\": false}, \"mode\": \"immediate\", \"transition\": {\"duration\": 300}}], \"label\": \"2014\", \"method\": \"animate\"}, {\"args\": [[\"2015\"], {\"frame\": {\"duration\": 1500, \"redraw\": false}, \"mode\": \"immediate\", \"transition\": {\"duration\": 300}}], \"label\": \"2015\", \"method\": \"animate\"}, {\"args\": [[\"2016\"], {\"frame\": {\"duration\": 1500, \"redraw\": false}, \"mode\": \"immediate\", \"transition\": {\"duration\": 300}}], \"label\": \"2016\", \"method\": \"animate\"}, {\"args\": [[\"2017\"], {\"frame\": {\"duration\": 1500, \"redraw\": false}, \"mode\": \"immediate\", \"transition\": {\"duration\": 300}}], \"label\": \"2017\", \"method\": \"animate\"}]}]},\n",
       "            {\"showLink\": true, \"linkText\": \"Export to plot.ly\"}\n",
       "        ).then(function () {return Plotly.addFrames('73b83f5a-30c4-4655-97dc-d1e409b53afe',[{\"data\": [{\"type\": \"choropleth\", \"colorscale\": [[0.0, \"#ffe5e5\"], [0.1, \"#ffb2b2\"], [0.2, \"#ff7f7f\"], [0.3, \"#ff4c4c\"], [0.4, \"#ff0000\"], [0.5, \"#b20000\"], [0.7, \"#7f0000\"], [1.0, \"#4c0000\"]], \"autocolorscale\": false, \"locations\": [\"AK\", \"AL\", \"AR\", \"AZ\", \"CA\", \"CO\", \"CT\", \"DC\", \"DE\", \"FL\", \"GA\", \"HI\", \"IA\", \"ID\", \"IL\", \"IN\", \"KS\", \"KY\", \"LA\", \"MA\", \"MD\", \"ME\", \"MI\", \"MN\", \"MO\", \"MS\", \"MT\", \"NC\", \"ND\", \"NE\", \"NH\", \"NJ\", \"NM\", \"NV\", \"NY\", \"OH\", \"OK\", \"OR\", \"PA\", \"RI\", \"SC\", \"SD\", \"TN\", \"TX\", \"UT\", \"VA\", \"VT\", \"WA\", \"WI\", \"WV\", \"WY\"], \"z\": [0, 31, 2, 16, 4, 3, 3, 5, 3, 5, 3, 2, 3, 0, 4, 7, 2, 1, 3, 11, 4, 0, 1, 2, 9, 0, 6, 17, 0, 3, 0, 7, 0, 1, 41, 2, 5, 3, 3, 0, 2, 2, 3, 3, 2, 27, 0, 4, 8, 1, 1], \"locationmode\": \"USA-states\", \"marker\": {\"line\": {\"color\": \"rgb(255,255,255)\", \"width\": 2}}, \"colorbar\": {\"title\": \"Deaths per 1,000,000 People\"}}], \"name\": \"2013\"}, {\"data\": [{\"type\": \"choropleth\", \"colorscale\": [[0.0, \"#ffe5e5\"], [0.1, \"#ffb2b2\"], [0.2, \"#ff7f7f\"], [0.3, \"#ff4c4c\"], [0.4, \"#ff0000\"], [0.5, \"#b20000\"], [0.7, \"#7f0000\"], [1.0, \"#4c0000\"]], \"autocolorscale\": false, \"locations\": [\"AK\", \"AL\", \"AR\", \"AZ\", \"CA\", \"CO\", \"CT\", \"DC\", \"DE\", \"FL\", \"GA\", \"HI\", \"IA\", \"ID\", \"IL\", \"IN\", \"KS\", \"KY\", \"LA\", \"MA\", \"MD\", \"ME\", \"MI\", \"MN\", \"MO\", \"MS\", \"MT\", \"NC\", \"ND\", \"NE\", \"NH\", \"NJ\", \"NM\", \"NV\", \"NY\", \"OH\", \"OK\", \"OR\", \"PA\", \"RI\", \"SC\", \"SD\", \"TN\", \"TX\", \"UT\", \"VA\", \"VT\", \"WA\", \"WI\", \"WV\", \"WY\"], \"z\": [0, 23, 1, 15, 4, 4, 0, 5, 4, 4, 2, 2, 6, 0, 5, 3, 5, 4, 5, 4, 4, 0, 2, 2, 9, 2, 5, 18, 0, 4, 0, 8, 1, 2, 36, 2, 7, 4, 1, 0, 4, 3, 3, 3, 6, 17, 0, 4, 5, 1, 5], \"locationmode\": \"USA-states\", \"marker\": {\"line\": {\"color\": \"rgb(255,255,255)\", \"width\": 2}}, \"colorbar\": {\"title\": \"Deaths per 1,000,000 People\"}}], \"name\": \"2014\"}, {\"data\": [{\"type\": \"choropleth\", \"colorscale\": [[0.0, \"#ffe5e5\"], [0.1, \"#ffb2b2\"], [0.2, \"#ff7f7f\"], [0.3, \"#ff4c4c\"], [0.4, \"#ff0000\"], [0.5, \"#b20000\"], [0.7, \"#7f0000\"], [1.0, \"#4c0000\"]], \"autocolorscale\": false, \"locations\": [\"AK\", \"AL\", \"AR\", \"AZ\", \"CA\", \"CO\", \"CT\", \"DC\", \"DE\", \"FL\", \"GA\", \"HI\", \"IA\", \"ID\", \"IL\", \"IN\", \"KS\", \"KY\", \"LA\", \"MA\", \"MD\", \"ME\", \"MI\", \"MN\", \"MO\", \"MS\", \"MT\", \"NC\", \"ND\", \"NE\", \"NH\", \"NJ\", \"NM\", \"NV\", \"NY\", \"OH\", \"OK\", \"OR\", \"PA\", \"SC\", \"SD\", \"TN\", \"TX\", \"UT\", \"VA\", \"VT\", \"WA\", \"WI\", \"WV\", \"WY\"], \"z\": [1, 28, 0, 14, 5, 5, 1, 6, 5, 4, 3, 2, 3, 0, 3, 7, 4, 4, 6, 9, 3, 0, 1, 2, 8, 2, 3, 14, 0, 7, 0, 11, 1, 1, 37, 3, 9, 4, 1, 19, 0, 28, 16, 0, 7, 1, 2, 1, 5, 1], \"locationmode\": \"USA-states\", \"marker\": {\"line\": {\"color\": \"rgb(255,255,255)\", \"width\": 2}}, \"colorbar\": {\"title\": \"Deaths per 1,000,000 People\"}}], \"name\": \"2015\"}, {\"data\": [{\"type\": \"choropleth\", \"colorscale\": [[0.0, \"#ffe5e5\"], [0.1, \"#ffb2b2\"], [0.2, \"#ff7f7f\"], [0.3, \"#ff4c4c\"], [0.4, \"#ff0000\"], [0.5, \"#b20000\"], [0.7, \"#7f0000\"], [1.0, \"#4c0000\"]], \"autocolorscale\": false, \"locations\": [\"AK\", \"AL\", \"AR\", \"AZ\", \"CA\", \"CO\", \"CT\", \"DC\", \"DE\", \"FL\", \"GA\", \"HI\", \"IA\", \"ID\", \"IL\", \"IN\", \"KS\", \"KY\", \"LA\", \"MA\", \"MD\", \"ME\", \"MI\", \"MN\", \"MO\", \"MS\", \"MT\", \"NC\", \"ND\", \"NE\", \"NH\", \"NJ\", \"NM\", \"NV\", \"NY\", \"OH\", \"OK\", \"OR\", \"PA\", \"RI\", \"SC\", \"SD\", \"TN\", \"TX\", \"UT\", \"VA\", \"VT\", \"WA\", \"WI\", \"WV\", \"WY\"], \"z\": [1, 36, 3, 16, 4, 5, 1, 5, 1, 3, 2, 4, 2, 0, 4, 6, 3, 5, 5, 10, 3, 0, 1, 2, 7, 1, 4, 20, 0, 5, 0, 8, 1, 1, 31, 2, 8, 4, 1, 1, 3, 6, 3, 3, 2, 32, 0, 3, 9, 2, 3], \"locationmode\": \"USA-states\", \"marker\": {\"line\": {\"color\": \"rgb(255,255,255)\", \"width\": 2}}, \"colorbar\": {\"title\": \"Deaths per 1,000,000 People\"}}], \"name\": \"2016\"}, {\"data\": [{\"type\": \"choropleth\", \"colorscale\": [[0.0, \"#ffe5e5\"], [0.1, \"#ffb2b2\"], [0.2, \"#ff7f7f\"], [0.3, \"#ff4c4c\"], [0.4, \"#ff0000\"], [0.5, \"#b20000\"], [0.7, \"#7f0000\"], [1.0, \"#4c0000\"]], \"autocolorscale\": false, \"locations\": [\"AK\", \"AL\", \"AR\", \"AZ\", \"CA\", \"CO\", \"CT\", \"DC\", \"DE\", \"FL\", \"GA\", \"HI\", \"IA\", \"ID\", \"IL\", \"IN\", \"KS\", \"KY\", \"LA\", \"MA\", \"MD\", \"ME\", \"MI\", \"MN\", \"MO\", \"MS\", \"MT\", \"NC\", \"ND\", \"NE\", \"NH\", \"NJ\", \"NM\", \"NV\", \"NY\", \"OH\", \"OK\", \"OR\", \"PA\", \"RI\", \"SC\", \"SD\", \"TN\", \"TX\", \"UT\", \"VA\", \"VT\", \"WA\", \"WI\", \"WV\", \"WY\"], \"z\": [1, 33, 2, 15, 4, 5, 1, 2, 10, 3, 3, 3, 3, 0, 4, 6, 5, 4, 4, 4, 2, 1, 1, 1, 11, 2, 5, 13, 1, 0, 0, 6, 1, 1, 23, 2, 7, 2, 2, 0, 2, 3, 4, 2, 1, 46, 0, 5, 14, 2, 1], \"locationmode\": \"USA-states\", \"marker\": {\"line\": {\"color\": \"rgb(255,255,255)\", \"width\": 2}}, \"colorbar\": {\"title\": \"Deaths per 1,000,000 People\"}}], \"name\": \"2017\"}]);}).then(function(){Plotly.animate('73b83f5a-30c4-4655-97dc-d1e409b53afe');})\n",
       "        });</script>"
      ],
      "text/vnd.plotly.v1+html": [
       "<div id=\"73b83f5a-30c4-4655-97dc-d1e409b53afe\" style=\"height: 525px; width: 100%;\" class=\"plotly-graph-div\"></div><script type=\"text/javascript\">require([\"plotly\"], function(Plotly) { window.PLOTLYENV=window.PLOTLYENV || {};window.PLOTLYENV.BASE_URL=\"https://plot.ly\";\n",
       "        Plotly.plot(\n",
       "            '73b83f5a-30c4-4655-97dc-d1e409b53afe',\n",
       "            [{\"type\": \"choropleth\", \"colorscale\": [[0.0, \"#ffe5e5\"], [0.1, \"#ffb2b2\"], [0.2, \"#ff7f7f\"], [0.3, \"#ff4c4c\"], [0.4, \"#ff0000\"], [0.5, \"#b20000\"], [0.7, \"#7f0000\"], [1.0, \"#4c0000\"]], \"autocolorscale\": false, \"locations\": [\"AK\", \"AL\", \"AR\", \"AZ\", \"CA\", \"CO\", \"CT\", \"DC\", \"DE\", \"FL\", \"GA\", \"HI\", \"IA\", \"ID\", \"IL\", \"IN\", \"KS\", \"KY\", \"LA\", \"MA\", \"MD\", \"ME\", \"MI\", \"MN\", \"MO\", \"MS\", \"MT\", \"NC\", \"ND\", \"NE\", \"NH\", \"NJ\", \"NM\", \"NV\", \"NY\", \"OH\", \"OK\", \"OR\", \"PA\", \"RI\", \"SC\", \"SD\", \"TN\", \"TX\", \"UT\", \"VA\", \"VT\", \"WA\", \"WI\", \"WV\", \"WY\"], \"z\": [4, 23, 14, 49, 189, 20, 11, 5, 2, 98, 30, 4, 5, 4, 27, 22, 6, 7, 15, 15, 25, 5, 13, 13, 27, 6, 7, 33, 2, 5, 3, 15, 15, 13, 30, 28, 21, 13, 39, 1, 13, 2, 21, 91, 7, 17, 1, 30, 15, 10, 1], \"locationmode\": \"USA-states\", \"marker\": {\"line\": {\"color\": \"rgb(255,255,255)\", \"width\": 2}}, \"colorbar\": {\"title\": \"Deaths per 1,000,000 People\"}}],\n",
       "            {\"title\": \"US Police Killings per Capita\", \"geo\": {\"scope\": \"usa\", \"projection\": {\"type\": \"albers usa\"}, \"showlakes\": true, \"lakecolor\": \"rgb(255, 255, 255)\"}, \"updatemenus\": [{\"buttons\": [{\"args\": [null, {\"frame\": {\"duration\": 1500, \"redraw\": false}, \"fromcurrent\": true, \"transition\": {\"duration\": 300, \"easing\": \"quadratic-in-out\"}}], \"label\": \"Play\", \"method\": \"animate\"}, {\"args\": [[null], {\"frame\": {\"duration\": 0, \"redraw\": false}, \"mode\": \"immediate\", \"transition\": {\"duration\": 0}}], \"label\": \"Pause\", \"method\": \"animate\"}], \"direction\": \"left\", \"pad\": {\"r\": 10, \"t\": 87}, \"showactive\": false, \"type\": \"buttons\", \"x\": 0.1, \"xanchor\": \"right\", \"y\": 0, \"yanchor\": \"top\"}], \"sliders\": [{\"active\": 0, \"yanchor\": \"top\", \"xanchor\": \"left\", \"currentvalue\": {\"font\": {\"size\": 20}, \"prefix\": \"Year: \", \"visible\": true, \"xanchor\": \"right\"}, \"transition\": {\"duration\": 300, \"easing\": \"cubic-in-out\"}, \"pad\": {\"b\": 10, \"t\": 50}, \"len\": 0.9, \"x\": 0.1, \"y\": 0, \"steps\": [{\"args\": [[\"2013\"], {\"frame\": {\"duration\": 1500, \"redraw\": false}, \"mode\": \"immediate\", \"transition\": {\"duration\": 300}}], \"label\": \"2013\", \"method\": \"animate\"}, {\"args\": [[\"2014\"], {\"frame\": {\"duration\": 1500, \"redraw\": false}, \"mode\": \"immediate\", \"transition\": {\"duration\": 300}}], \"label\": \"2014\", \"method\": \"animate\"}, {\"args\": [[\"2015\"], {\"frame\": {\"duration\": 1500, \"redraw\": false}, \"mode\": \"immediate\", \"transition\": {\"duration\": 300}}], \"label\": \"2015\", \"method\": \"animate\"}, {\"args\": [[\"2016\"], {\"frame\": {\"duration\": 1500, \"redraw\": false}, \"mode\": \"immediate\", \"transition\": {\"duration\": 300}}], \"label\": \"2016\", \"method\": \"animate\"}, {\"args\": [[\"2017\"], {\"frame\": {\"duration\": 1500, \"redraw\": false}, \"mode\": \"immediate\", \"transition\": {\"duration\": 300}}], \"label\": \"2017\", \"method\": \"animate\"}]}]},\n",
       "            {\"showLink\": true, \"linkText\": \"Export to plot.ly\"}\n",
       "        ).then(function () {return Plotly.addFrames('73b83f5a-30c4-4655-97dc-d1e409b53afe',[{\"data\": [{\"type\": \"choropleth\", \"colorscale\": [[0.0, \"#ffe5e5\"], [0.1, \"#ffb2b2\"], [0.2, \"#ff7f7f\"], [0.3, \"#ff4c4c\"], [0.4, \"#ff0000\"], [0.5, \"#b20000\"], [0.7, \"#7f0000\"], [1.0, \"#4c0000\"]], \"autocolorscale\": false, \"locations\": [\"AK\", \"AL\", \"AR\", \"AZ\", \"CA\", \"CO\", \"CT\", \"DC\", \"DE\", \"FL\", \"GA\", \"HI\", \"IA\", \"ID\", \"IL\", \"IN\", \"KS\", \"KY\", \"LA\", \"MA\", \"MD\", \"ME\", \"MI\", \"MN\", \"MO\", \"MS\", \"MT\", \"NC\", \"ND\", \"NE\", \"NH\", \"NJ\", \"NM\", \"NV\", \"NY\", \"OH\", \"OK\", \"OR\", \"PA\", \"RI\", \"SC\", \"SD\", \"TN\", \"TX\", \"UT\", \"VA\", \"VT\", \"WA\", \"WI\", \"WV\", \"WY\"], \"z\": [0, 31, 2, 16, 4, 3, 3, 5, 3, 5, 3, 2, 3, 0, 4, 7, 2, 1, 3, 11, 4, 0, 1, 2, 9, 0, 6, 17, 0, 3, 0, 7, 0, 1, 41, 2, 5, 3, 3, 0, 2, 2, 3, 3, 2, 27, 0, 4, 8, 1, 1], \"locationmode\": \"USA-states\", \"marker\": {\"line\": {\"color\": \"rgb(255,255,255)\", \"width\": 2}}, \"colorbar\": {\"title\": \"Deaths per 1,000,000 People\"}}], \"name\": \"2013\"}, {\"data\": [{\"type\": \"choropleth\", \"colorscale\": [[0.0, \"#ffe5e5\"], [0.1, \"#ffb2b2\"], [0.2, \"#ff7f7f\"], [0.3, \"#ff4c4c\"], [0.4, \"#ff0000\"], [0.5, \"#b20000\"], [0.7, \"#7f0000\"], [1.0, \"#4c0000\"]], \"autocolorscale\": false, \"locations\": [\"AK\", \"AL\", \"AR\", \"AZ\", \"CA\", \"CO\", \"CT\", \"DC\", \"DE\", \"FL\", \"GA\", \"HI\", \"IA\", \"ID\", \"IL\", \"IN\", \"KS\", \"KY\", \"LA\", \"MA\", \"MD\", \"ME\", \"MI\", \"MN\", \"MO\", \"MS\", \"MT\", \"NC\", \"ND\", \"NE\", \"NH\", \"NJ\", \"NM\", \"NV\", \"NY\", \"OH\", \"OK\", \"OR\", \"PA\", \"RI\", \"SC\", \"SD\", \"TN\", \"TX\", \"UT\", \"VA\", \"VT\", \"WA\", \"WI\", \"WV\", \"WY\"], \"z\": [0, 23, 1, 15, 4, 4, 0, 5, 4, 4, 2, 2, 6, 0, 5, 3, 5, 4, 5, 4, 4, 0, 2, 2, 9, 2, 5, 18, 0, 4, 0, 8, 1, 2, 36, 2, 7, 4, 1, 0, 4, 3, 3, 3, 6, 17, 0, 4, 5, 1, 5], \"locationmode\": \"USA-states\", \"marker\": {\"line\": {\"color\": \"rgb(255,255,255)\", \"width\": 2}}, \"colorbar\": {\"title\": \"Deaths per 1,000,000 People\"}}], \"name\": \"2014\"}, {\"data\": [{\"type\": \"choropleth\", \"colorscale\": [[0.0, \"#ffe5e5\"], [0.1, \"#ffb2b2\"], [0.2, \"#ff7f7f\"], [0.3, \"#ff4c4c\"], [0.4, \"#ff0000\"], [0.5, \"#b20000\"], [0.7, \"#7f0000\"], [1.0, \"#4c0000\"]], \"autocolorscale\": false, \"locations\": [\"AK\", \"AL\", \"AR\", \"AZ\", \"CA\", \"CO\", \"CT\", \"DC\", \"DE\", \"FL\", \"GA\", \"HI\", \"IA\", \"ID\", \"IL\", \"IN\", \"KS\", \"KY\", \"LA\", \"MA\", \"MD\", \"ME\", \"MI\", \"MN\", \"MO\", \"MS\", \"MT\", \"NC\", \"ND\", \"NE\", \"NH\", \"NJ\", \"NM\", \"NV\", \"NY\", \"OH\", \"OK\", \"OR\", \"PA\", \"SC\", \"SD\", \"TN\", \"TX\", \"UT\", \"VA\", \"VT\", \"WA\", \"WI\", \"WV\", \"WY\"], \"z\": [1, 28, 0, 14, 5, 5, 1, 6, 5, 4, 3, 2, 3, 0, 3, 7, 4, 4, 6, 9, 3, 0, 1, 2, 8, 2, 3, 14, 0, 7, 0, 11, 1, 1, 37, 3, 9, 4, 1, 19, 0, 28, 16, 0, 7, 1, 2, 1, 5, 1], \"locationmode\": \"USA-states\", \"marker\": {\"line\": {\"color\": \"rgb(255,255,255)\", \"width\": 2}}, \"colorbar\": {\"title\": \"Deaths per 1,000,000 People\"}}], \"name\": \"2015\"}, {\"data\": [{\"type\": \"choropleth\", \"colorscale\": [[0.0, \"#ffe5e5\"], [0.1, \"#ffb2b2\"], [0.2, \"#ff7f7f\"], [0.3, \"#ff4c4c\"], [0.4, \"#ff0000\"], [0.5, \"#b20000\"], [0.7, \"#7f0000\"], [1.0, \"#4c0000\"]], \"autocolorscale\": false, \"locations\": [\"AK\", \"AL\", \"AR\", \"AZ\", \"CA\", \"CO\", \"CT\", \"DC\", \"DE\", \"FL\", \"GA\", \"HI\", \"IA\", \"ID\", \"IL\", \"IN\", \"KS\", \"KY\", \"LA\", \"MA\", \"MD\", \"ME\", \"MI\", \"MN\", \"MO\", \"MS\", \"MT\", \"NC\", \"ND\", \"NE\", \"NH\", \"NJ\", \"NM\", \"NV\", \"NY\", \"OH\", \"OK\", \"OR\", \"PA\", \"RI\", \"SC\", \"SD\", \"TN\", \"TX\", \"UT\", \"VA\", \"VT\", \"WA\", \"WI\", \"WV\", \"WY\"], \"z\": [1, 36, 3, 16, 4, 5, 1, 5, 1, 3, 2, 4, 2, 0, 4, 6, 3, 5, 5, 10, 3, 0, 1, 2, 7, 1, 4, 20, 0, 5, 0, 8, 1, 1, 31, 2, 8, 4, 1, 1, 3, 6, 3, 3, 2, 32, 0, 3, 9, 2, 3], \"locationmode\": \"USA-states\", \"marker\": {\"line\": {\"color\": \"rgb(255,255,255)\", \"width\": 2}}, \"colorbar\": {\"title\": \"Deaths per 1,000,000 People\"}}], \"name\": \"2016\"}, {\"data\": [{\"type\": \"choropleth\", \"colorscale\": [[0.0, \"#ffe5e5\"], [0.1, \"#ffb2b2\"], [0.2, \"#ff7f7f\"], [0.3, \"#ff4c4c\"], [0.4, \"#ff0000\"], [0.5, \"#b20000\"], [0.7, \"#7f0000\"], [1.0, \"#4c0000\"]], \"autocolorscale\": false, \"locations\": [\"AK\", \"AL\", \"AR\", \"AZ\", \"CA\", \"CO\", \"CT\", \"DC\", \"DE\", \"FL\", \"GA\", \"HI\", \"IA\", \"ID\", \"IL\", \"IN\", \"KS\", \"KY\", \"LA\", \"MA\", \"MD\", \"ME\", \"MI\", \"MN\", \"MO\", \"MS\", \"MT\", \"NC\", \"ND\", \"NE\", \"NH\", \"NJ\", \"NM\", \"NV\", \"NY\", \"OH\", \"OK\", \"OR\", \"PA\", \"RI\", \"SC\", \"SD\", \"TN\", \"TX\", \"UT\", \"VA\", \"VT\", \"WA\", \"WI\", \"WV\", \"WY\"], \"z\": [1, 33, 2, 15, 4, 5, 1, 2, 10, 3, 3, 3, 3, 0, 4, 6, 5, 4, 4, 4, 2, 1, 1, 1, 11, 2, 5, 13, 1, 0, 0, 6, 1, 1, 23, 2, 7, 2, 2, 0, 2, 3, 4, 2, 1, 46, 0, 5, 14, 2, 1], \"locationmode\": \"USA-states\", \"marker\": {\"line\": {\"color\": \"rgb(255,255,255)\", \"width\": 2}}, \"colorbar\": {\"title\": \"Deaths per 1,000,000 People\"}}], \"name\": \"2017\"}]);}).then(function(){Plotly.animate('73b83f5a-30c4-4655-97dc-d1e409b53afe');})\n",
       "        });</script>"
      ]
     },
     "metadata": {},
     "output_type": "display_data"
    }
   ],
   "source": [
    "fig = {\n",
    "    'data': data,\n",
    "    'layout': layout,\n",
    "    'frames': frames\n",
    "}\n",
    "iplot(fig)"
   ]
  },
  {
   "cell_type": "code",
   "execution_count": null,
   "metadata": {},
   "outputs": [],
   "source": []
  }
 ],
 "metadata": {
  "kernelspec": {
   "display_name": "Python 3",
   "language": "python",
   "name": "python3"
  },
  "language_info": {
   "codemirror_mode": {
    "name": "ipython",
    "version": 3
   },
   "file_extension": ".py",
   "mimetype": "text/x-python",
   "name": "python",
   "nbconvert_exporter": "python",
   "pygments_lexer": "ipython3",
   "version": "3.6.4"
  }
 },
 "nbformat": 4,
 "nbformat_minor": 2
}
